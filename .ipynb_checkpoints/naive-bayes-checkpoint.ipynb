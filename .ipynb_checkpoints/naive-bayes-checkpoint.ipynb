{
 "cells": [
  {
   "cell_type": "code",
   "execution_count": 75,
   "metadata": {},
   "outputs": [],
   "source": [
    "import pandas as pd\n",
    "import matplotlib.pyplot as plt\n",
    "import seaborn as sb\n",
    "import numpy as np\n",
    "from scipy.stats import norm\n",
    "from sklearn.model_selection import train_test_split\n",
    "from sklearn.preprocessing import StandardScaler\n",
    "from sklearn.feature_selection import VarianceThreshold\n",
    "from sklearn.metrics import accuracy_score\n",
    "from sklearn import preprocessing\n",
    "from scipy import stats\n",
    "from pandas import Series, DataFrame\n",
    "from pandas.plotting import autocorrelation_plot\n",
    "from pylab import rcParams\n",
    "from matplotlib import collections as collections\n",
    "from matplotlib.patches import Rectangle\n",
    "from itertools import cycle\n",
    "\n",
    "from mixed_naive_bayes import MixedNB\n",
    "from sklearn.naive_bayes import GaussianNB\n",
    "\n",
    "import warnings\n",
    "warnings.filterwarnings('ignore')\n",
    "%matplotlib inline\n",
    "\n",
    "rcParams['figure.figsize'] = 5,4\n",
    "sb.set_style('whitegrid')\n",
    "from numpy import median\n",
    "from numpy import mean"
   ]
  },
  {
   "cell_type": "code",
   "execution_count": 93,
   "metadata": {},
   "outputs": [],
   "source": [
    "df = pd.read_csv('./persona_hogares_nuevo.csv')"
   ]
  },
  {
   "cell_type": "code",
   "execution_count": 94,
   "metadata": {
    "scrolled": true
   },
   "outputs": [
    {
     "data": {
      "text/html": [
       "<div>\n",
       "<style scoped>\n",
       "    .dataframe tbody tr th:only-of-type {\n",
       "        vertical-align: middle;\n",
       "    }\n",
       "\n",
       "    .dataframe tbody tr th {\n",
       "        vertical-align: top;\n",
       "    }\n",
       "\n",
       "    .dataframe thead th {\n",
       "        text-align: right;\n",
       "    }\n",
       "</style>\n",
       "<table border=\"1\" class=\"dataframe\">\n",
       "  <thead>\n",
       "    <tr style=\"text-align: right;\">\n",
       "      <th></th>\n",
       "      <th>folio</th>\n",
       "      <th>depto</th>\n",
       "      <th>area</th>\n",
       "      <th>nro</th>\n",
       "      <th>genero</th>\n",
       "      <th>edad</th>\n",
       "      <th>dianac</th>\n",
       "      <th>mesnac</th>\n",
       "      <th>anionac</th>\n",
       "      <th>relacionjefehogar</th>\n",
       "      <th>...</th>\n",
       "      <th>yhog</th>\n",
       "      <th>yhogpc</th>\n",
       "      <th>z</th>\n",
       "      <th>zext</th>\n",
       "      <th>pcero</th>\n",
       "      <th>puno</th>\n",
       "      <th>pdos</th>\n",
       "      <th>pextcero</th>\n",
       "      <th>pextuno</th>\n",
       "      <th>pextdos</th>\n",
       "    </tr>\n",
       "  </thead>\n",
       "  <tbody>\n",
       "    <tr>\n",
       "      <th>39600</th>\n",
       "      <td>953-12108090472-A-0031</td>\n",
       "      <td>Pando</td>\n",
       "      <td>Rural</td>\n",
       "      <td>4</td>\n",
       "      <td>2.Mujer</td>\n",
       "      <td>13</td>\n",
       "      <td>26</td>\n",
       "      <td>4</td>\n",
       "      <td>2006</td>\n",
       "      <td>3.HIJO/A O ENTENADO/A</td>\n",
       "      <td>...</td>\n",
       "      <td>2165</td>\n",
       "      <td>433</td>\n",
       "      <td>668.099976</td>\n",
       "      <td>381.079987</td>\n",
       "      <td>Pobre</td>\n",
       "      <td>0.351893</td>\n",
       "      <td>0.123829</td>\n",
       "      <td>No pobre extremo</td>\n",
       "      <td>0</td>\n",
       "      <td>0</td>\n",
       "    </tr>\n",
       "    <tr>\n",
       "      <th>39601</th>\n",
       "      <td>953-12108090472-A-0051</td>\n",
       "      <td>Pando</td>\n",
       "      <td>Rural</td>\n",
       "      <td>3</td>\n",
       "      <td>1.Hombre</td>\n",
       "      <td>7</td>\n",
       "      <td>1</td>\n",
       "      <td>11</td>\n",
       "      <td>2012</td>\n",
       "      <td>9.NIETO/NIETA</td>\n",
       "      <td>...</td>\n",
       "      <td>5564.67</td>\n",
       "      <td>1854.89</td>\n",
       "      <td>668.099976</td>\n",
       "      <td>381.079987</td>\n",
       "      <td>No pobre</td>\n",
       "      <td>0</td>\n",
       "      <td>0</td>\n",
       "      <td>No pobre extremo</td>\n",
       "      <td>0</td>\n",
       "      <td>0</td>\n",
       "    </tr>\n",
       "    <tr>\n",
       "      <th>39602</th>\n",
       "      <td>953-12108090472-A-0061</td>\n",
       "      <td>Pando</td>\n",
       "      <td>Rural</td>\n",
       "      <td>2</td>\n",
       "      <td>2.Mujer</td>\n",
       "      <td>22</td>\n",
       "      <td>1</td>\n",
       "      <td>9</td>\n",
       "      <td>1997</td>\n",
       "      <td>2.ESPOSA/O O CONVIVIENTE</td>\n",
       "      <td>...</td>\n",
       "      <td>1500</td>\n",
       "      <td>500</td>\n",
       "      <td>668.099976</td>\n",
       "      <td>381.079987</td>\n",
       "      <td>Pobre</td>\n",
       "      <td>0.251609</td>\n",
       "      <td>0.0633071</td>\n",
       "      <td>No pobre extremo</td>\n",
       "      <td>0</td>\n",
       "      <td>0</td>\n",
       "    </tr>\n",
       "    <tr>\n",
       "      <th>39603</th>\n",
       "      <td>953-12108090472-A-0071</td>\n",
       "      <td>Pando</td>\n",
       "      <td>Rural</td>\n",
       "      <td>4</td>\n",
       "      <td>1.Hombre</td>\n",
       "      <td>17</td>\n",
       "      <td>11</td>\n",
       "      <td>9</td>\n",
       "      <td>2002</td>\n",
       "      <td>3.HIJO/A O ENTENADO/A</td>\n",
       "      <td>...</td>\n",
       "      <td>4500</td>\n",
       "      <td>900</td>\n",
       "      <td>668.099976</td>\n",
       "      <td>381.079987</td>\n",
       "      <td>No pobre</td>\n",
       "      <td>0</td>\n",
       "      <td>0</td>\n",
       "      <td>No pobre extremo</td>\n",
       "      <td>0</td>\n",
       "      <td>0</td>\n",
       "    </tr>\n",
       "    <tr>\n",
       "      <th>39604</th>\n",
       "      <td>953-12108090472-A-0071</td>\n",
       "      <td>Pando</td>\n",
       "      <td>Rural</td>\n",
       "      <td>5</td>\n",
       "      <td>1.Hombre</td>\n",
       "      <td>18</td>\n",
       "      <td>9</td>\n",
       "      <td>9</td>\n",
       "      <td>2001</td>\n",
       "      <td>10.OTRO PARIENTE</td>\n",
       "      <td>...</td>\n",
       "      <td>4500</td>\n",
       "      <td>900</td>\n",
       "      <td>668.099976</td>\n",
       "      <td>381.079987</td>\n",
       "      <td>No pobre</td>\n",
       "      <td>0</td>\n",
       "      <td>0</td>\n",
       "      <td>No pobre extremo</td>\n",
       "      <td>0</td>\n",
       "      <td>0</td>\n",
       "    </tr>\n",
       "  </tbody>\n",
       "</table>\n",
       "<p>5 rows × 180 columns</p>\n",
       "</div>"
      ],
      "text/plain": [
       "                        folio  depto   area  nro    genero  edad  dianac  \\\n",
       "39600  953-12108090472-A-0031  Pando  Rural    4   2.Mujer    13      26   \n",
       "39601  953-12108090472-A-0051  Pando  Rural    3  1.Hombre     7       1   \n",
       "39602  953-12108090472-A-0061  Pando  Rural    2   2.Mujer    22       1   \n",
       "39603  953-12108090472-A-0071  Pando  Rural    4  1.Hombre    17      11   \n",
       "39604  953-12108090472-A-0071  Pando  Rural    5  1.Hombre    18       9   \n",
       "\n",
       "       mesnac  anionac         relacionjefehogar  ...     yhog   yhogpc  \\\n",
       "39600       4     2006     3.HIJO/A O ENTENADO/A  ...     2165      433   \n",
       "39601      11     2012             9.NIETO/NIETA  ...  5564.67  1854.89   \n",
       "39602       9     1997  2.ESPOSA/O O CONVIVIENTE  ...     1500      500   \n",
       "39603       9     2002     3.HIJO/A O ENTENADO/A  ...     4500      900   \n",
       "39604       9     2001          10.OTRO PARIENTE  ...     4500      900   \n",
       "\n",
       "                z        zext     pcero      puno       pdos  \\\n",
       "39600  668.099976  381.079987     Pobre  0.351893   0.123829   \n",
       "39601  668.099976  381.079987  No pobre         0          0   \n",
       "39602  668.099976  381.079987     Pobre  0.251609  0.0633071   \n",
       "39603  668.099976  381.079987  No pobre         0          0   \n",
       "39604  668.099976  381.079987  No pobre         0          0   \n",
       "\n",
       "               pextcero pextuno pextdos  \n",
       "39600  No pobre extremo       0       0  \n",
       "39601  No pobre extremo       0       0  \n",
       "39602  No pobre extremo       0       0  \n",
       "39603  No pobre extremo       0       0  \n",
       "39604  No pobre extremo       0       0  \n",
       "\n",
       "[5 rows x 180 columns]"
      ]
     },
     "execution_count": 94,
     "metadata": {},
     "output_type": "execute_result"
    }
   ],
   "source": [
    "df.head()\n",
    "df.tail()"
   ]
  },
  {
   "cell_type": "code",
   "execution_count": 95,
   "metadata": {},
   "outputs": [
    {
     "data": {
      "text/plain": [
       "folio       object\n",
       "depto       object\n",
       "area        object\n",
       "nro          int64\n",
       "genero      object\n",
       "             ...  \n",
       "puno        object\n",
       "pdos        object\n",
       "pextcero    object\n",
       "pextuno     object\n",
       "pextdos     object\n",
       "Length: 180, dtype: object"
      ]
     },
     "execution_count": 95,
     "metadata": {},
     "output_type": "execute_result"
    }
   ],
   "source": [
    "df.dtypes"
   ]
  },
  {
   "cell_type": "code",
   "execution_count": 96,
   "metadata": {},
   "outputs": [
    {
     "data": {
      "text/plain": [
       "['folio',\n",
       " 'depto',\n",
       " 'area',\n",
       " 'nro',\n",
       " 'genero',\n",
       " 'edad',\n",
       " 'dianac',\n",
       " 'mesnac',\n",
       " 'anionac',\n",
       " 'relacionjefehogar',\n",
       " 'idiomauno',\n",
       " 'idiomados',\n",
       " 'idiomanativo',\n",
       " 'estadocivil',\n",
       " 'dondehace5anios',\n",
       " 'pertenecepueblooriginario',\n",
       " 'pueblooriginario',\n",
       " 'tieneenfermedad',\n",
       " 'enfermadodocemeses',\n",
       " 'acudiodocecaja',\n",
       " 'acudiodocepublico',\n",
       " 'acudiodoceprivados',\n",
       " 'acudiodocemisalud',\n",
       " 'acudiodocedomicilio',\n",
       " 'acudiodocetradicional',\n",
       " 'acudiosinreceta',\n",
       " 'afiliadoseguro',\n",
       " 'dificultadlentes',\n",
       " 'dificultadauditivo',\n",
       " 'dificultadcomunicacion',\n",
       " 'dificultadapoyocaminar',\n",
       " 'dificultadconcentracion',\n",
       " 'dificultadapoyoapoyo',\n",
       " 'dificultadentenderrealidad',\n",
       " 'estuvoembarazada',\n",
       " 'numeroembarazos',\n",
       " 'hijos',\n",
       " 'hijosvivos',\n",
       " 'quienatendioparto',\n",
       " 'dondeatendioparto',\n",
       " 'partoatendiocaja',\n",
       " 'bonoazurduy',\n",
       " 'treintaactividadfisicatrabajo',\n",
       " 'treintamcaminatrabajo',\n",
       " 'ejercicioregular',\n",
       " 'deportepractica',\n",
       " 'ininstalaciontipopublico',\n",
       " 'ininstalaciontipopublicocosto',\n",
       " 'instalacionprivada',\n",
       " 'instalacionabierta',\n",
       " 'instalacioncasa',\n",
       " 'fuma',\n",
       " 'bebe',\n",
       " 'frecuenciabebe',\n",
       " 'sienteseguro',\n",
       " 'victimadocem',\n",
       " 'leeescribe',\n",
       " 'operacionesmatematicas',\n",
       " 'niveleducacionalto',\n",
       " 'gradoalto',\n",
       " 'inscribiocursoanio',\n",
       " 'razoninscribio',\n",
       " 'gradoinscribioanio',\n",
       " 'bonojuancitopinto',\n",
       " 'establecimientomatriculo',\n",
       " 'actualmenteasiste',\n",
       " 'motivonoasiste',\n",
       " 'burlaron',\n",
       " 'insultaron',\n",
       " 'golpearon',\n",
       " 'amenazaron',\n",
       " 'ignoraron',\n",
       " 'quitaron',\n",
       " 'mintieron',\n",
       " 'tienetelefono',\n",
       " 'usadotelefono3m',\n",
       " 'usadointernet',\n",
       " 'frecuenciauso',\n",
       " 'lugaruso',\n",
       " 'internetbienes',\n",
       " 'internetsalud',\n",
       " 'internetorganizaciones',\n",
       " 'internetcorreo',\n",
       " 'internetcompraventa',\n",
       " 'internettransacciones',\n",
       " 'internetcapacitacion',\n",
       " 'internetbuscempleo',\n",
       " 'internetentretenimiento',\n",
       " 'trabajoultimasemana',\n",
       " 'ulsemanadisponible',\n",
       " 'ulsemanabusconegopropio',\n",
       " 'trabajoanteriormente',\n",
       " 'hacecuantonotrabajo',\n",
       " 'periodohacecuantonotrabja',\n",
       " 'esusted',\n",
       " 'porquenobuscotrabajo',\n",
       " 'ocupacionsemanapasada',\n",
       " 'ocupacionsemanapasadacodigo',\n",
       " 'actividadempresa',\n",
       " 'actividadempresacodigo',\n",
       " 'ocupacion',\n",
       " 'ocupacionrol',\n",
       " 'tiempotrabajaempresa',\n",
       " 'periodotiempotrabajo',\n",
       " 'tipocontrato',\n",
       " 'publicaprivada',\n",
       " 'lugardesempenio',\n",
       " 'numeroempleados',\n",
       " 'diassemanatrabaja',\n",
       " 'horasdiatrabaja',\n",
       " 'salarioliquido',\n",
       " 'salariofrequencia',\n",
       " 'primaultimoanio',\n",
       " 'aguinaldoultimoanio',\n",
       " 'tienevacaciones',\n",
       " 'tieneseguro',\n",
       " 'ingresoocupacionprincipal',\n",
       " 'frecuenciaocupacionprincipal',\n",
       " 'deseatrabajarmashoras',\n",
       " 'disponibletrabajarmashoras',\n",
       " 'trabajoalgunavez',\n",
       " 'afiliado',\n",
       " 'afiliadoafp',\n",
       " 'aportaafp',\n",
       " 'ingresojubilacion',\n",
       " 'ingresobenemerito',\n",
       " 'ingresoinvalidez',\n",
       " 'ingresoviudez',\n",
       " 'ingresorentadignidad',\n",
       " 'ingresomontorentadignidad',\n",
       " 'ingresointereses',\n",
       " 'ingresoalquileres',\n",
       " 'ingresootrasrentas',\n",
       " 'recibiodineroexterior',\n",
       " 'frecuenciadineroexterior',\n",
       " 'montodineroexterior',\n",
       " 'monedamontoexterior',\n",
       " 'razontrabaja',\n",
       " 'estrato',\n",
       " 'factor',\n",
       " 'tipohogar',\n",
       " 'cobersalud',\n",
       " 'hnvulta',\n",
       " 'quienatenparto',\n",
       " 'dondeatenparto',\n",
       " 'nived',\n",
       " 'nivedg',\n",
       " 'cmasi',\n",
       " 'educprev',\n",
       " 'aestudio',\n",
       " 'cobop',\n",
       " 'caebop',\n",
       " 'pet',\n",
       " 'ocupado',\n",
       " 'cesante',\n",
       " 'aspirante',\n",
       " 'desocupado',\n",
       " 'pea',\n",
       " 'temporal',\n",
       " 'permanente',\n",
       " 'pei',\n",
       " 'condact',\n",
       " 'phrs',\n",
       " 'shrs',\n",
       " 'tothrs',\n",
       " 'yprilab',\n",
       " 'yseclab',\n",
       " 'ylab',\n",
       " 'ynolab',\n",
       " 'yper',\n",
       " 'yhog',\n",
       " 'yhogpc',\n",
       " 'z',\n",
       " 'zext',\n",
       " 'pcero',\n",
       " 'puno',\n",
       " 'pdos',\n",
       " 'pextcero',\n",
       " 'pextuno',\n",
       " 'pextdos']"
      ]
     },
     "execution_count": 96,
     "metadata": {},
     "output_type": "execute_result"
    }
   ],
   "source": [
    "# ver las variables del dataset\n",
    "list(df.columns)\n",
    "#df.info()"
   ]
  },
  {
   "cell_type": "code",
   "execution_count": 97,
   "metadata": {},
   "outputs": [
    {
     "data": {
      "text/plain": [
       "(39605, 180)"
      ]
     },
     "execution_count": 97,
     "metadata": {},
     "output_type": "execute_result"
    }
   ],
   "source": [
    "df.shape"
   ]
  },
  {
   "cell_type": "markdown",
   "metadata": {},
   "source": [
    "### Análisis Exploratorio de Datos\n",
    "#### Escogiendo nuestra variable dependiente\n",
    "\n",
    "Se desea proyectar la condición laboral de las personas"
   ]
  },
  {
   "cell_type": "code",
   "execution_count": 98,
   "metadata": {},
   "outputs": [],
   "source": [
    "# renombramos la columna condicion laboral\n",
    "df = df.rename(columns={'condact': 'target'})"
   ]
  },
  {
   "cell_type": "code",
   "execution_count": 99,
   "metadata": {},
   "outputs": [
    {
     "data": {
      "text/plain": [
       "p_ocupado       19151\n",
       "p_permanente     9715\n",
       "p_temporal       4396\n",
       "p_cesante         656\n",
       "p_aspirante       318\n",
       "Name: target, dtype: int64"
      ]
     },
     "execution_count": 99,
     "metadata": {},
     "output_type": "execute_result"
    }
   ],
   "source": [
    "df['target'].value_counts()"
   ]
  },
  {
   "cell_type": "markdown",
   "metadata": {},
   "source": [
    "### Evaluando variables"
   ]
  },
  {
   "cell_type": "code",
   "execution_count": 100,
   "metadata": {},
   "outputs": [
    {
     "data": {
      "text/plain": [
       "Nuclear completa     22062\n",
       "Hogar Extendido       6684\n",
       "Monoparental          5006\n",
       "Pareja Nuclear        2663\n",
       "Hogar Unipersonal     2000\n",
       "Otro                  1093\n",
       "Hogar Compuesto         97\n",
       "Name: tipohogar, dtype: int64"
      ]
     },
     "execution_count": 100,
     "metadata": {},
     "output_type": "execute_result"
    }
   ],
   "source": [
    "df['tipohogar'].value_counts()"
   ]
  },
  {
   "cell_type": "code",
   "execution_count": 101,
   "metadata": {},
   "outputs": [
    {
     "data": {
      "text/plain": [
       "0        31149\n",
       "3000       296\n",
       "200        296\n",
       "150        292\n",
       "100        276\n",
       "         ...  \n",
       "46           1\n",
       "39400        1\n",
       "28800        1\n",
       "315          1\n",
       "24500        1\n",
       "Name: ingresoocupacionprincipal, Length: 792, dtype: int64"
      ]
     },
     "execution_count": 101,
     "metadata": {},
     "output_type": "execute_result"
    }
   ],
   "source": [
    "df['ingresoocupacionprincipal'].value_counts()\n",
    "# entra porque uno esta ocupado es pq gana directo"
   ]
  },
  {
   "cell_type": "code",
   "execution_count": 102,
   "metadata": {},
   "outputs": [
    {
     "data": {
      "text/plain": [
       "                                                                                                                            38039\n",
       "2.Para apoyar al negocio u otra actividad que realiza la familia (complementar lo ingresos del hogar)                         895\n",
       "1.Para generar sus ingresos propios                                                                                           282\n",
       "4.Para aprender, tener experiencia y habilidades                                                                              183\n",
       "5.Para seguir las costumbres de la familia o la comunidad                                                                     181\n",
       "3.Para superar los problemas temporales de falta de ingresos/exceso de gastos del hogar (dejarà de trabajar cuando èstos       24\n",
       "6.Otra razón (Especifique)                                                                                                      1\n",
       "Name: razontrabaja, dtype: int64"
      ]
     },
     "execution_count": 102,
     "metadata": {},
     "output_type": "execute_result"
    }
   ],
   "source": [
    "df['razontrabaja'].value_counts()"
   ]
  },
  {
   "cell_type": "code",
   "execution_count": 103,
   "metadata": {},
   "outputs": [
    {
     "data": {
      "text/plain": [
       "Público    26754\n",
       "Ninguno    12477\n",
       "Privado      364\n",
       "Otro          10\n",
       "Name: cobersalud, dtype: int64"
      ]
     },
     "execution_count": 103,
     "metadata": {},
     "output_type": "execute_result"
    }
   ],
   "source": [
    "df['cobersalud'].value_counts()"
   ]
  },
  {
   "cell_type": "code",
   "execution_count": 104,
   "metadata": {},
   "outputs": [
    {
     "data": {
      "text/plain": [
       "0     6906\n",
       "12    5909\n",
       "17    3489\n",
       "5     2736\n",
       "3     2024\n",
       "8     1740\n",
       "4     1675\n",
       "10    1651\n",
       "2     1637\n",
       "6     1560\n",
       "11    1465\n",
       "7     1451\n",
       "1     1394\n",
       "9     1346\n",
       "14    1292\n",
       "15    1279\n",
       "13     945\n",
       "16     655\n",
       "18     227\n",
       "19     189\n",
       "22      28\n",
       "21       6\n",
       "20       1\n",
       "Name: aestudio, dtype: int64"
      ]
     },
     "execution_count": 104,
     "metadata": {},
     "output_type": "execute_result"
    }
   ],
   "source": [
    "df['aestudio'].value_counts()\n",
    "# variable ayuda a que la persona este trabajando"
   ]
  },
  {
   "cell_type": "code",
   "execution_count": 105,
   "metadata": {},
   "outputs": [
    {
     "data": {
      "text/plain": [
       "                          36152\n",
       "Atención Institucional     3294\n",
       "Otro                        125\n",
       "Atención Partera             29\n",
       "Médico Tradicional            5\n",
       "Name: quienatenparto, dtype: int64"
      ]
     },
     "execution_count": 105,
     "metadata": {},
     "output_type": "execute_result"
    }
   ],
   "source": [
    "df['quienatenparto'].value_counts()"
   ]
  },
  {
   "cell_type": "code",
   "execution_count": 110,
   "metadata": {},
   "outputs": [
    {
     "data": {
      "text/plain": [
       "<AxesSubplot:xlabel='nivedg'>"
      ]
     },
     "execution_count": 110,
     "metadata": {},
     "output_type": "execute_result"
    },
    {
     "data": {
      "image/png": "[encoded data removed]",
      "text/plain": [
       "<Figure size 936x720 with 1 Axes>"
      ]
     },
     "metadata": {},
     "output_type": "display_data"
    }
   ],
   "source": [
    "pd.crosstab(df.nivedg,df.target).plot(kind='bar', figsize=(13,10))\n",
    "#plt.title('Frecuencia de personas por nivel de educación máximo')\n",
    "#plt.xlabel('Nivel de educación máximo')\n",
    "#plt.ylabel('Frecuencia de personas')"
   ]
  },
  {
   "cell_type": "code",
   "execution_count": null,
   "metadata": {},
   "outputs": [],
   "source": [
    "#  primaria secundaria superior tienen alta frecuencia con ocupados permanentes y temporales"
   ]
  },
  {
   "cell_type": "code",
   "execution_count": 113,
   "metadata": {},
   "outputs": [
    {
     "data": {
      "text/plain": [
       "<AxesSubplot:xlabel='genero'>"
      ]
     },
     "execution_count": 113,
     "metadata": {},
     "output_type": "execute_result"
    },
    {
     "data": {
      "image/png": "[encoded data removed]",
      "text/plain": [
       "<Figure size 936x720 with 1 Axes>"
      ]
     },
     "metadata": {},
     "output_type": "display_data"
    }
   ],
   "source": [
    "pd.crosstab(df.genero,df.target).plot(kind='bar', figsize=(13, 10))\n",
    "#plt.title('Frecuencia de personas por genero')\n",
    "#plt.xlabel('Genero')\n",
    "#plt.ylabel('Frecuencia de personas')"
   ]
  },
  {
   "cell_type": "code",
   "execution_count": 115,
   "metadata": {},
   "outputs": [
    {
     "data": {
      "text/plain": [
       "<AxesSubplot:xlabel='tipohogar'>"
      ]
     },
     "execution_count": 115,
     "metadata": {},
     "output_type": "execute_result"
    },
    {
     "data": {
      "image/png": "[encoded data removed]",
      "text/plain": [
       "<Figure size 936x720 with 1 Axes>"
      ]
     },
     "metadata": {},
     "output_type": "display_data"
    }
   ],
   "source": [
    "pd.crosstab(df.tipohogar,df.target).plot(kind='bar', figsize=(13, 10))\n",
    "#plt.title('Frecuencia de personas por genero')\n",
    "#plt.xlabel('Tipo hogar')\n",
    "#plt.ylabel('Frecuencia de personas')"
   ]
  },
  {
   "cell_type": "code",
   "execution_count": null,
   "metadata": {},
   "outputs": [],
   "source": [
    "# existen buena relacion de discrimiladidad entre la target del sexo, existe alta frecuencia entre genero y personal ocupado"
   ]
  },
  {
   "cell_type": "code",
   "execution_count": 116,
   "metadata": {},
   "outputs": [
    {
     "data": {
      "image/png": "[encoded data removed]",
      "text/plain": [
       "<Figure size 936x720 with 1 Axes>"
      ]
     },
     "metadata": {},
     "output_type": "display_data"
    }
   ],
   "source": [
    "plt = df['phrs'].plot.hist(bins= 100,figsize=(13, 10))\n",
    "#plt.title('Frecuencia  por hora trabajadas')\n",
    "#plt.xlabel('Genero')\n",
    "#plt.ylabel('Frecuencia')"
   ]
  },
  {
   "cell_type": "markdown",
   "metadata": {},
   "source": [
    "### Recategorizacion de variables"
   ]
  },
  {
   "cell_type": "code",
   "execution_count": 117,
   "metadata": {},
   "outputs": [
    {
     "data": {
      "text/html": [
       "<div>\n",
       "<style scoped>\n",
       "    .dataframe tbody tr th:only-of-type {\n",
       "        vertical-align: middle;\n",
       "    }\n",
       "\n",
       "    .dataframe tbody tr th {\n",
       "        vertical-align: top;\n",
       "    }\n",
       "\n",
       "    .dataframe thead th {\n",
       "        text-align: right;\n",
       "    }\n",
       "</style>\n",
       "<table border=\"1\" class=\"dataframe\">\n",
       "  <thead>\n",
       "    <tr style=\"text-align: right;\">\n",
       "      <th></th>\n",
       "      <th>folio</th>\n",
       "      <th>depto</th>\n",
       "      <th>area</th>\n",
       "      <th>nro</th>\n",
       "      <th>genero</th>\n",
       "      <th>edad</th>\n",
       "      <th>dianac</th>\n",
       "      <th>mesnac</th>\n",
       "      <th>anionac</th>\n",
       "      <th>relacionjefehogar</th>\n",
       "      <th>...</th>\n",
       "      <th>pextcero</th>\n",
       "      <th>pextuno</th>\n",
       "      <th>pextdos</th>\n",
       "      <th>genero_e</th>\n",
       "      <th>tipohogar_e</th>\n",
       "      <th>razontrabaja_e</th>\n",
       "      <th>cobersalud_e</th>\n",
       "      <th>hijos_e</th>\n",
       "      <th>ocupacion_e</th>\n",
       "      <th>relacionjefehogar_e</th>\n",
       "    </tr>\n",
       "  </thead>\n",
       "  <tbody>\n",
       "    <tr>\n",
       "      <th>0</th>\n",
       "      <td>111-00416110273-A-0021</td>\n",
       "      <td>Chuquisaca</td>\n",
       "      <td>Urbana</td>\n",
       "      <td>1</td>\n",
       "      <td>1.Hombre</td>\n",
       "      <td>42</td>\n",
       "      <td>10</td>\n",
       "      <td>2</td>\n",
       "      <td>1977</td>\n",
       "      <td>1.JEFE O JEFA DEL HOGAR</td>\n",
       "      <td>...</td>\n",
       "      <td>No pobre extremo</td>\n",
       "      <td>0</td>\n",
       "      <td>0</td>\n",
       "      <td>0</td>\n",
       "      <td>1</td>\n",
       "      <td>0</td>\n",
       "      <td>0</td>\n",
       "      <td>0</td>\n",
       "      <td>2</td>\n",
       "      <td>0</td>\n",
       "    </tr>\n",
       "    <tr>\n",
       "      <th>1</th>\n",
       "      <td>111-00416110273-A-0031</td>\n",
       "      <td>Chuquisaca</td>\n",
       "      <td>Urbana</td>\n",
       "      <td>1</td>\n",
       "      <td>1.Hombre</td>\n",
       "      <td>44</td>\n",
       "      <td>20</td>\n",
       "      <td>5</td>\n",
       "      <td>1975</td>\n",
       "      <td>1.JEFE O JEFA DEL HOGAR</td>\n",
       "      <td>...</td>\n",
       "      <td>No pobre extremo</td>\n",
       "      <td>0</td>\n",
       "      <td>0</td>\n",
       "      <td>0</td>\n",
       "      <td>4</td>\n",
       "      <td>0</td>\n",
       "      <td>3</td>\n",
       "      <td>0</td>\n",
       "      <td>2</td>\n",
       "      <td>0</td>\n",
       "    </tr>\n",
       "    <tr>\n",
       "      <th>2</th>\n",
       "      <td>151-03374505336-D-0091</td>\n",
       "      <td>Chuquisaca</td>\n",
       "      <td>Rural</td>\n",
       "      <td>6</td>\n",
       "      <td>1.Hombre</td>\n",
       "      <td>4</td>\n",
       "      <td>6</td>\n",
       "      <td>1</td>\n",
       "      <td>2015</td>\n",
       "      <td>3.HIJO/A O ENTENADO/A</td>\n",
       "      <td>...</td>\n",
       "      <td>Pobre extremo</td>\n",
       "      <td>0.685652136802673</td>\n",
       "      <td>0.470118850469589</td>\n",
       "      <td>0</td>\n",
       "      <td>1</td>\n",
       "      <td>0</td>\n",
       "      <td>3</td>\n",
       "      <td>0</td>\n",
       "      <td>0</td>\n",
       "      <td>6</td>\n",
       "    </tr>\n",
       "    <tr>\n",
       "      <th>3</th>\n",
       "      <td>111-00416110273-A-0051</td>\n",
       "      <td>Chuquisaca</td>\n",
       "      <td>Urbana</td>\n",
       "      <td>1</td>\n",
       "      <td>1.Hombre</td>\n",
       "      <td>41</td>\n",
       "      <td>23</td>\n",
       "      <td>11</td>\n",
       "      <td>1978</td>\n",
       "      <td>1.JEFE O JEFA DEL HOGAR</td>\n",
       "      <td>...</td>\n",
       "      <td>No pobre extremo</td>\n",
       "      <td>0</td>\n",
       "      <td>0</td>\n",
       "      <td>0</td>\n",
       "      <td>4</td>\n",
       "      <td>0</td>\n",
       "      <td>3</td>\n",
       "      <td>0</td>\n",
       "      <td>1</td>\n",
       "      <td>0</td>\n",
       "    </tr>\n",
       "    <tr>\n",
       "      <th>4</th>\n",
       "      <td>111-00416110273-A-0051</td>\n",
       "      <td>Chuquisaca</td>\n",
       "      <td>Urbana</td>\n",
       "      <td>2</td>\n",
       "      <td>2.Mujer</td>\n",
       "      <td>31</td>\n",
       "      <td>30</td>\n",
       "      <td>8</td>\n",
       "      <td>1988</td>\n",
       "      <td>2.ESPOSA/O O CONVIVIENTE</td>\n",
       "      <td>...</td>\n",
       "      <td>No pobre extremo</td>\n",
       "      <td>0</td>\n",
       "      <td>0</td>\n",
       "      <td>1</td>\n",
       "      <td>4</td>\n",
       "      <td>0</td>\n",
       "      <td>3</td>\n",
       "      <td>8</td>\n",
       "      <td>2</td>\n",
       "      <td>5</td>\n",
       "    </tr>\n",
       "  </tbody>\n",
       "</table>\n",
       "<p>5 rows × 187 columns</p>\n",
       "</div>"
      ],
      "text/plain": [
       "                    folio       depto    area  nro    genero  edad  dianac  \\\n",
       "0  111-00416110273-A-0021  Chuquisaca  Urbana    1  1.Hombre    42      10   \n",
       "1  111-00416110273-A-0031  Chuquisaca  Urbana    1  1.Hombre    44      20   \n",
       "2  151-03374505336-D-0091  Chuquisaca   Rural    6  1.Hombre     4       6   \n",
       "3  111-00416110273-A-0051  Chuquisaca  Urbana    1  1.Hombre    41      23   \n",
       "4  111-00416110273-A-0051  Chuquisaca  Urbana    2   2.Mujer    31      30   \n",
       "\n",
       "   mesnac  anionac         relacionjefehogar  ...          pextcero  \\\n",
       "0       2     1977   1.JEFE O JEFA DEL HOGAR  ...  No pobre extremo   \n",
       "1       5     1975   1.JEFE O JEFA DEL HOGAR  ...  No pobre extremo   \n",
       "2       1     2015     3.HIJO/A O ENTENADO/A  ...     Pobre extremo   \n",
       "3      11     1978   1.JEFE O JEFA DEL HOGAR  ...  No pobre extremo   \n",
       "4       8     1988  2.ESPOSA/O O CONVIVIENTE  ...  No pobre extremo   \n",
       "\n",
       "             pextuno            pextdos genero_e tipohogar_e razontrabaja_e  \\\n",
       "0                  0                  0        0           1              0   \n",
       "1                  0                  0        0           4              0   \n",
       "2  0.685652136802673  0.470118850469589        0           1              0   \n",
       "3                  0                  0        0           4              0   \n",
       "4                  0                  0        1           4              0   \n",
       "\n",
       "  cobersalud_e hijos_e ocupacion_e relacionjefehogar_e  \n",
       "0            0       0           2                   0  \n",
       "1            3       0           2                   0  \n",
       "2            3       0           0                   6  \n",
       "3            3       0           1                   0  \n",
       "4            3       8           2                   5  \n",
       "\n",
       "[5 rows x 187 columns]"
      ]
     },
     "execution_count": 117,
     "metadata": {},
     "output_type": "execute_result"
    }
   ],
   "source": [
    "label_encoder = preprocessing.LabelEncoder()\n",
    "df['target'] = label_encoder.fit_transform(df['target'])\n",
    "#df['edad_e'] = label_encoder.fit_transform(df['edad'])\n",
    "df['genero_e'] = label_encoder.fit_transform(df['genero'])\n",
    "df['tipohogar_e'] = label_encoder.fit_transform(df['tipohogar'])\n",
    "df['razontrabaja_e'] = label_encoder.fit_transform(df['razontrabaja'])\n",
    "df['cobersalud_e'] = label_encoder.fit_transform(df['cobersalud'])\n",
    "df['hijos_e'] = label_encoder.fit_transform(df['hijos'])\n",
    "df['ocupacion_e'] = label_encoder.fit_transform(df['ocupacion'])\n",
    "df['relacionjefehogar_e'] = label_encoder.fit_transform(df['relacionjefehogar'])\n",
    "#df['interhouse'] = label_encoder.fit_transform(df['internet_casa'])\n",
    "\n",
    "df.head()"
   ]
  },
  {
   "cell_type": "code",
   "execution_count": 118,
   "metadata": {},
   "outputs": [
    {
     "data": {
      "text/plain": [
       "2    19151\n",
       "3     9715\n",
       "5     5369\n",
       "4     4396\n",
       "1      656\n",
       "0      318\n",
       "Name: target, dtype: int64"
      ]
     },
     "execution_count": 118,
     "metadata": {},
     "output_type": "execute_result"
    }
   ],
   "source": [
    "df['target'].value_counts()"
   ]
  },
  {
   "cell_type": "markdown",
   "metadata": {},
   "source": [
    "### Crear otro dataframe df1 con las variables interesadas"
   ]
  },
  {
   "cell_type": "code",
   "execution_count": 119,
   "metadata": {},
   "outputs": [
    {
     "data": {
      "text/html": [
       "<div>\n",
       "<style scoped>\n",
       "    .dataframe tbody tr th:only-of-type {\n",
       "        vertical-align: middle;\n",
       "    }\n",
       "\n",
       "    .dataframe tbody tr th {\n",
       "        vertical-align: top;\n",
       "    }\n",
       "\n",
       "    .dataframe thead th {\n",
       "        text-align: right;\n",
       "    }\n",
       "</style>\n",
       "<table border=\"1\" class=\"dataframe\">\n",
       "  <thead>\n",
       "    <tr style=\"text-align: right;\">\n",
       "      <th></th>\n",
       "      <th>edad</th>\n",
       "      <th>genero_e</th>\n",
       "      <th>hijos_e</th>\n",
       "      <th>tipohogar_e</th>\n",
       "      <th>cobersalud_e</th>\n",
       "      <th>razontrabaja_e</th>\n",
       "      <th>relacionjefehogar_e</th>\n",
       "      <th>ocupacion_e</th>\n",
       "      <th>ingresoocupacionprincipal</th>\n",
       "      <th>aestudio</th>\n",
       "      <th>target</th>\n",
       "    </tr>\n",
       "  </thead>\n",
       "  <tbody>\n",
       "    <tr>\n",
       "      <th>0</th>\n",
       "      <td>42</td>\n",
       "      <td>0</td>\n",
       "      <td>0</td>\n",
       "      <td>1</td>\n",
       "      <td>0</td>\n",
       "      <td>0</td>\n",
       "      <td>0</td>\n",
       "      <td>2</td>\n",
       "      <td>0</td>\n",
       "      <td>17</td>\n",
       "      <td>2</td>\n",
       "    </tr>\n",
       "    <tr>\n",
       "      <th>1</th>\n",
       "      <td>44</td>\n",
       "      <td>0</td>\n",
       "      <td>0</td>\n",
       "      <td>4</td>\n",
       "      <td>3</td>\n",
       "      <td>0</td>\n",
       "      <td>0</td>\n",
       "      <td>2</td>\n",
       "      <td>0</td>\n",
       "      <td>16</td>\n",
       "      <td>2</td>\n",
       "    </tr>\n",
       "    <tr>\n",
       "      <th>2</th>\n",
       "      <td>4</td>\n",
       "      <td>0</td>\n",
       "      <td>0</td>\n",
       "      <td>1</td>\n",
       "      <td>3</td>\n",
       "      <td>0</td>\n",
       "      <td>6</td>\n",
       "      <td>0</td>\n",
       "      <td>0</td>\n",
       "      <td>0</td>\n",
       "      <td>5</td>\n",
       "    </tr>\n",
       "    <tr>\n",
       "      <th>3</th>\n",
       "      <td>41</td>\n",
       "      <td>0</td>\n",
       "      <td>0</td>\n",
       "      <td>4</td>\n",
       "      <td>3</td>\n",
       "      <td>0</td>\n",
       "      <td>0</td>\n",
       "      <td>1</td>\n",
       "      <td>900</td>\n",
       "      <td>6</td>\n",
       "      <td>2</td>\n",
       "    </tr>\n",
       "    <tr>\n",
       "      <th>4</th>\n",
       "      <td>31</td>\n",
       "      <td>1</td>\n",
       "      <td>8</td>\n",
       "      <td>4</td>\n",
       "      <td>3</td>\n",
       "      <td>0</td>\n",
       "      <td>5</td>\n",
       "      <td>2</td>\n",
       "      <td>0</td>\n",
       "      <td>4</td>\n",
       "      <td>2</td>\n",
       "    </tr>\n",
       "  </tbody>\n",
       "</table>\n",
       "</div>"
      ],
      "text/plain": [
       "   edad  genero_e  hijos_e  tipohogar_e  cobersalud_e  razontrabaja_e  \\\n",
       "0    42         0        0            1             0               0   \n",
       "1    44         0        0            4             3               0   \n",
       "2     4         0        0            1             3               0   \n",
       "3    41         0        0            4             3               0   \n",
       "4    31         1        8            4             3               0   \n",
       "\n",
       "   relacionjefehogar_e  ocupacion_e  ingresoocupacionprincipal  aestudio  \\\n",
       "0                    0            2                          0        17   \n",
       "1                    0            2                          0        16   \n",
       "2                    6            0                          0         0   \n",
       "3                    0            1                        900         6   \n",
       "4                    5            2                          0         4   \n",
       "\n",
       "   target  \n",
       "0       2  \n",
       "1       2  \n",
       "2       5  \n",
       "3       2  \n",
       "4       2  "
      ]
     },
     "execution_count": 119,
     "metadata": {},
     "output_type": "execute_result"
    }
   ],
   "source": [
    "nomcol = ['edad','genero_e','hijos_e','tipohogar_e', 'cobersalud_e', 'razontrabaja_e', 'relacionjefehogar_e','ocupacion_e', 'ingresoocupacionprincipal', 'aestudio','target']\n",
    "df1=df[nomcol]\n",
    "df1.head()"
   ]
  },
  {
   "cell_type": "code",
   "execution_count": 120,
   "metadata": {},
   "outputs": [
    {
     "data": {
      "text/html": [
       "<div>\n",
       "<style scoped>\n",
       "    .dataframe tbody tr th:only-of-type {\n",
       "        vertical-align: middle;\n",
       "    }\n",
       "\n",
       "    .dataframe tbody tr th {\n",
       "        vertical-align: top;\n",
       "    }\n",
       "\n",
       "    .dataframe thead th {\n",
       "        text-align: right;\n",
       "    }\n",
       "</style>\n",
       "<table border=\"1\" class=\"dataframe\">\n",
       "  <thead>\n",
       "    <tr style=\"text-align: right;\">\n",
       "      <th></th>\n",
       "      <th>edad</th>\n",
       "      <th>genero_e</th>\n",
       "      <th>hijos_e</th>\n",
       "      <th>tipohogar_e</th>\n",
       "      <th>cobersalud_e</th>\n",
       "      <th>razontrabaja_e</th>\n",
       "      <th>relacionjefehogar_e</th>\n",
       "      <th>ocupacion_e</th>\n",
       "      <th>ingresoocupacionprincipal</th>\n",
       "      <th>aestudio</th>\n",
       "    </tr>\n",
       "  </thead>\n",
       "  <tbody>\n",
       "    <tr>\n",
       "      <th>0</th>\n",
       "      <td>42</td>\n",
       "      <td>0</td>\n",
       "      <td>0</td>\n",
       "      <td>1</td>\n",
       "      <td>0</td>\n",
       "      <td>0</td>\n",
       "      <td>0</td>\n",
       "      <td>2</td>\n",
       "      <td>0</td>\n",
       "      <td>17</td>\n",
       "    </tr>\n",
       "    <tr>\n",
       "      <th>1</th>\n",
       "      <td>44</td>\n",
       "      <td>0</td>\n",
       "      <td>0</td>\n",
       "      <td>4</td>\n",
       "      <td>3</td>\n",
       "      <td>0</td>\n",
       "      <td>0</td>\n",
       "      <td>2</td>\n",
       "      <td>0</td>\n",
       "      <td>16</td>\n",
       "    </tr>\n",
       "    <tr>\n",
       "      <th>2</th>\n",
       "      <td>4</td>\n",
       "      <td>0</td>\n",
       "      <td>0</td>\n",
       "      <td>1</td>\n",
       "      <td>3</td>\n",
       "      <td>0</td>\n",
       "      <td>6</td>\n",
       "      <td>0</td>\n",
       "      <td>0</td>\n",
       "      <td>0</td>\n",
       "    </tr>\n",
       "    <tr>\n",
       "      <th>3</th>\n",
       "      <td>41</td>\n",
       "      <td>0</td>\n",
       "      <td>0</td>\n",
       "      <td>4</td>\n",
       "      <td>3</td>\n",
       "      <td>0</td>\n",
       "      <td>0</td>\n",
       "      <td>1</td>\n",
       "      <td>900</td>\n",
       "      <td>6</td>\n",
       "    </tr>\n",
       "    <tr>\n",
       "      <th>4</th>\n",
       "      <td>31</td>\n",
       "      <td>1</td>\n",
       "      <td>8</td>\n",
       "      <td>4</td>\n",
       "      <td>3</td>\n",
       "      <td>0</td>\n",
       "      <td>5</td>\n",
       "      <td>2</td>\n",
       "      <td>0</td>\n",
       "      <td>4</td>\n",
       "    </tr>\n",
       "  </tbody>\n",
       "</table>\n",
       "</div>"
      ],
      "text/plain": [
       "   edad  genero_e  hijos_e  tipohogar_e  cobersalud_e  razontrabaja_e  \\\n",
       "0    42         0        0            1             0               0   \n",
       "1    44         0        0            4             3               0   \n",
       "2     4         0        0            1             3               0   \n",
       "3    41         0        0            4             3               0   \n",
       "4    31         1        8            4             3               0   \n",
       "\n",
       "   relacionjefehogar_e  ocupacion_e  ingresoocupacionprincipal  aestudio  \n",
       "0                    0            2                          0        17  \n",
       "1                    0            2                          0        16  \n",
       "2                    6            0                          0         0  \n",
       "3                    0            1                        900         6  \n",
       "4                    5            2                          0         4  "
      ]
     },
     "execution_count": 120,
     "metadata": {},
     "output_type": "execute_result"
    }
   ],
   "source": [
    "X= df1[df1.columns[:-1]]\n",
    "y= df1['target']\n",
    "X.head()"
   ]
  },
  {
   "cell_type": "markdown",
   "metadata": {},
   "source": [
    "### Aplicación de Naive Bayes"
   ]
  },
  {
   "cell_type": "code",
   "execution_count": 121,
   "metadata": {},
   "outputs": [],
   "source": [
    "# preparacion de la data de aprendizaje y de testeo\n",
    "X_train, X_test, y_train, y_test = train_test_split(X, y, test_size=0.3, random_state=25)"
   ]
  },
  {
   "cell_type": "code",
   "execution_count": 122,
   "metadata": {},
   "outputs": [],
   "source": [
    "gnb = GaussianNB()\n",
    "y_pred = gnb.fit(X_train, y_train).predict(X_test)"
   ]
  },
  {
   "cell_type": "code",
   "execution_count": 123,
   "metadata": {},
   "outputs": [
    {
     "data": {
      "text/plain": [
       "array([3, 3, 2, ..., 2, 2, 3])"
      ]
     },
     "execution_count": 123,
     "metadata": {},
     "output_type": "execute_result"
    }
   ],
   "source": [
    "y_pred"
   ]
  },
  {
   "cell_type": "markdown",
   "metadata": {},
   "source": [
    "### Evaluación de la técnica de Naive Bayes"
   ]
  },
  {
   "cell_type": "code",
   "execution_count": 124,
   "metadata": {},
   "outputs": [
    {
     "name": "stdout",
     "output_type": "stream",
     "text": [
      "0.9038882343039892\n"
     ]
    }
   ],
   "source": [
    "# calcular la precisión de la técnica\n",
    "print(accuracy_score(y_test, y_pred))"
   ]
  },
  {
   "cell_type": "markdown",
   "metadata": {},
   "source": [
    "### Conclusiones\n",
    "    - Con la técnica de Naive Bayes (Gausiana) se puede clasificar la condicion laboral de las personas, el modelo propuesto tiene un 90% de precisión."
   ]
  },
  {
   "cell_type": "code",
   "execution_count": null,
   "metadata": {},
   "outputs": [],
   "source": []
  }
 ],
 "metadata": {
  "kernelspec": {
   "display_name": "Python 3",
   "language": "python",
   "name": "python3"
  },
  "language_info": {
   "codemirror_mode": {
    "name": "ipython",
    "version": 3
   },
   "file_extension": ".py",
   "mimetype": "text/x-python",
   "name": "python",
   "nbconvert_exporter": "python",
   "pygments_lexer": "ipython3",
   "version": "3.8.5"
  }
 },
 "nbformat": 4,
 "nbformat_minor": 4
}
