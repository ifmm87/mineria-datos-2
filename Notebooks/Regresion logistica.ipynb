{
 "cells": [
  {
   "cell_type": "markdown",
   "metadata": {},
   "source": [
    "### Aplicación de Regresión Logística Multinomial"
   ]
  },
  {
   "cell_type": "code",
   "execution_count": 2,
   "metadata": {},
   "outputs": [],
   "source": [
    "import pandas as pd\n",
    "import numpy as np\n",
    "from sklearn import preprocessing\n",
    "import matplotlib.pyplot as plt \n",
    "%matplotlib inline\n",
    "plt.rc(\"font\", size=14)\n",
    "from sklearn.linear_model import LogisticRegression\n",
    "from sklearn.model_selection import train_test_split\n",
    "from sklearn.model_selection import StratifiedKFold, KFold\n",
    "import seaborn as sns\n",
    "sns.set(style=\"white\")\n",
    "sns.set(style=\"whitegrid\", color_codes=True)\n",
    "from sklearn.preprocessing import StandardScaler\n",
    "from sklearn.metrics import confusion_matrix, f1_score,confusion_matrix, mean_squared_error, mean_absolute_error, classification_report, roc_auc_score, roc_curve, precision_score, recall_score\n",
    "from sklearn.model_selection import cross_val_score"
   ]
  },
  {
   "cell_type": "code",
   "execution_count": 80,
   "metadata": {},
   "outputs": [
    {
     "name": "stderr",
     "output_type": "stream",
     "text": [
      "/opt/anaconda/lib/python3.8/site-packages/IPython/core/interactiveshell.py:3146: DtypeWarning: Columns (96,97,98,99,170,171,175,176,178,179) have mixed types.Specify dtype option on import or set low_memory=False.\n",
      "  has_raised = await self.run_ast_nodes(code_ast.body, cell_name,\n"
     ]
    },
    {
     "data": {
      "text/html": [
       "<div>\n",
       "<style scoped>\n",
       "    .dataframe tbody tr th:only-of-type {\n",
       "        vertical-align: middle;\n",
       "    }\n",
       "\n",
       "    .dataframe tbody tr th {\n",
       "        vertical-align: top;\n",
       "    }\n",
       "\n",
       "    .dataframe thead th {\n",
       "        text-align: right;\n",
       "    }\n",
       "</style>\n",
       "<table border=\"1\" class=\"dataframe\">\n",
       "  <thead>\n",
       "    <tr style=\"text-align: right;\">\n",
       "      <th></th>\n",
       "      <th>folio</th>\n",
       "      <th>depto</th>\n",
       "      <th>area</th>\n",
       "      <th>nro</th>\n",
       "      <th>genero</th>\n",
       "      <th>edad</th>\n",
       "      <th>dianac</th>\n",
       "      <th>mesnac</th>\n",
       "      <th>anionac</th>\n",
       "      <th>relacionjefehogar</th>\n",
       "      <th>...</th>\n",
       "      <th>yhog</th>\n",
       "      <th>yhogpc</th>\n",
       "      <th>z</th>\n",
       "      <th>zext</th>\n",
       "      <th>pcero</th>\n",
       "      <th>puno</th>\n",
       "      <th>pdos</th>\n",
       "      <th>pextcero</th>\n",
       "      <th>pextuno</th>\n",
       "      <th>pextdos</th>\n",
       "    </tr>\n",
       "  </thead>\n",
       "  <tbody>\n",
       "    <tr>\n",
       "      <th>0</th>\n",
       "      <td>111-00416110273-A-0021</td>\n",
       "      <td>Chuquisaca</td>\n",
       "      <td>Urbana</td>\n",
       "      <td>1</td>\n",
       "      <td>1.Hombre</td>\n",
       "      <td>42</td>\n",
       "      <td>10</td>\n",
       "      <td>2</td>\n",
       "      <td>1977</td>\n",
       "      <td>1.JEFE O JEFA DEL HOGAR</td>\n",
       "      <td>...</td>\n",
       "      <td>3350</td>\n",
       "      <td>558.333312988281</td>\n",
       "      <td>1020.330017</td>\n",
       "      <td>494.549988</td>\n",
       "      <td>Pobre</td>\n",
       "      <td>0.452791452407837</td>\n",
       "      <td>0.205020099878311</td>\n",
       "      <td>No pobre extremo</td>\n",
       "      <td>0</td>\n",
       "      <td>0</td>\n",
       "    </tr>\n",
       "    <tr>\n",
       "      <th>1</th>\n",
       "      <td>111-00416110273-A-0031</td>\n",
       "      <td>Chuquisaca</td>\n",
       "      <td>Urbana</td>\n",
       "      <td>1</td>\n",
       "      <td>1.Hombre</td>\n",
       "      <td>44</td>\n",
       "      <td>20</td>\n",
       "      <td>5</td>\n",
       "      <td>1975</td>\n",
       "      <td>1.JEFE O JEFA DEL HOGAR</td>\n",
       "      <td>...</td>\n",
       "      <td>3590</td>\n",
       "      <td>897.5</td>\n",
       "      <td>1020.330017</td>\n",
       "      <td>494.549988</td>\n",
       "      <td>Pobre</td>\n",
       "      <td>0.120382636785507</td>\n",
       "      <td>0.014491979032755</td>\n",
       "      <td>No pobre extremo</td>\n",
       "      <td>0</td>\n",
       "      <td>0</td>\n",
       "    </tr>\n",
       "    <tr>\n",
       "      <th>2</th>\n",
       "      <td>151-03374505336-D-0091</td>\n",
       "      <td>Chuquisaca</td>\n",
       "      <td>Rural</td>\n",
       "      <td>6</td>\n",
       "      <td>1.Hombre</td>\n",
       "      <td>4</td>\n",
       "      <td>6</td>\n",
       "      <td>1</td>\n",
       "      <td>2015</td>\n",
       "      <td>3.HIJO/A O ENTENADO/A</td>\n",
       "      <td>...</td>\n",
       "      <td>958.333374023438</td>\n",
       "      <td>119.79167175293</td>\n",
       "      <td>668.099976</td>\n",
       "      <td>381.079987</td>\n",
       "      <td>Pobre</td>\n",
       "      <td>0.820697963237762</td>\n",
       "      <td>0.673545122146606</td>\n",
       "      <td>Pobre extremo</td>\n",
       "      <td>0.685652136802673</td>\n",
       "      <td>0.470118850469589</td>\n",
       "    </tr>\n",
       "    <tr>\n",
       "      <th>3</th>\n",
       "      <td>111-00416110273-A-0051</td>\n",
       "      <td>Chuquisaca</td>\n",
       "      <td>Urbana</td>\n",
       "      <td>1</td>\n",
       "      <td>1.Hombre</td>\n",
       "      <td>41</td>\n",
       "      <td>23</td>\n",
       "      <td>11</td>\n",
       "      <td>1978</td>\n",
       "      <td>1.JEFE O JEFA DEL HOGAR</td>\n",
       "      <td>...</td>\n",
       "      <td>3511.39990234375</td>\n",
       "      <td>702.279968261719</td>\n",
       "      <td>1020.330017</td>\n",
       "      <td>494.549988</td>\n",
       "      <td>Pobre</td>\n",
       "      <td>0.311712920665741</td>\n",
       "      <td>0.097164943814278</td>\n",
       "      <td>No pobre extremo</td>\n",
       "      <td>0</td>\n",
       "      <td>0</td>\n",
       "    </tr>\n",
       "    <tr>\n",
       "      <th>4</th>\n",
       "      <td>111-00416110273-A-0051</td>\n",
       "      <td>Chuquisaca</td>\n",
       "      <td>Urbana</td>\n",
       "      <td>2</td>\n",
       "      <td>2.Mujer</td>\n",
       "      <td>31</td>\n",
       "      <td>30</td>\n",
       "      <td>8</td>\n",
       "      <td>1988</td>\n",
       "      <td>2.ESPOSA/O O CONVIVIENTE</td>\n",
       "      <td>...</td>\n",
       "      <td>3511.39990234375</td>\n",
       "      <td>702.279968261719</td>\n",
       "      <td>1020.330017</td>\n",
       "      <td>494.549988</td>\n",
       "      <td>Pobre</td>\n",
       "      <td>0.311712920665741</td>\n",
       "      <td>0.097164943814278</td>\n",
       "      <td>No pobre extremo</td>\n",
       "      <td>0</td>\n",
       "      <td>0</td>\n",
       "    </tr>\n",
       "  </tbody>\n",
       "</table>\n",
       "<p>5 rows × 180 columns</p>\n",
       "</div>"
      ],
      "text/plain": [
       "                    folio       depto    area  nro    genero  edad  dianac  \\\n",
       "0  111-00416110273-A-0021  Chuquisaca  Urbana    1  1.Hombre    42      10   \n",
       "1  111-00416110273-A-0031  Chuquisaca  Urbana    1  1.Hombre    44      20   \n",
       "2  151-03374505336-D-0091  Chuquisaca   Rural    6  1.Hombre     4       6   \n",
       "3  111-00416110273-A-0051  Chuquisaca  Urbana    1  1.Hombre    41      23   \n",
       "4  111-00416110273-A-0051  Chuquisaca  Urbana    2   2.Mujer    31      30   \n",
       "\n",
       "   mesnac  anionac         relacionjefehogar  ...              yhog  \\\n",
       "0       2     1977   1.JEFE O JEFA DEL HOGAR  ...              3350   \n",
       "1       5     1975   1.JEFE O JEFA DEL HOGAR  ...              3590   \n",
       "2       1     2015     3.HIJO/A O ENTENADO/A  ...  958.333374023438   \n",
       "3      11     1978   1.JEFE O JEFA DEL HOGAR  ...  3511.39990234375   \n",
       "4       8     1988  2.ESPOSA/O O CONVIVIENTE  ...  3511.39990234375   \n",
       "\n",
       "             yhogpc            z        zext  pcero               puno  \\\n",
       "0  558.333312988281  1020.330017  494.549988  Pobre  0.452791452407837   \n",
       "1             897.5  1020.330017  494.549988  Pobre  0.120382636785507   \n",
       "2   119.79167175293   668.099976  381.079987  Pobre  0.820697963237762   \n",
       "3  702.279968261719  1020.330017  494.549988  Pobre  0.311712920665741   \n",
       "4  702.279968261719  1020.330017  494.549988  Pobre  0.311712920665741   \n",
       "\n",
       "                pdos          pextcero            pextuno            pextdos  \n",
       "0  0.205020099878311  No pobre extremo                  0                  0  \n",
       "1  0.014491979032755  No pobre extremo                  0                  0  \n",
       "2  0.673545122146606     Pobre extremo  0.685652136802673  0.470118850469589  \n",
       "3  0.097164943814278  No pobre extremo                  0                  0  \n",
       "4  0.097164943814278  No pobre extremo                  0                  0  \n",
       "\n",
       "[5 rows x 180 columns]"
      ]
     },
     "execution_count": 80,
     "metadata": {},
     "output_type": "execute_result"
    }
   ],
   "source": [
    "df=pd.read_csv('persona_hogares_nuevo.csv', sep=',')\n",
    "df.head()\n",
    "#data.columns\n",
    "#data=data.dropna()\n",
    "#print(data.shape)\n"
   ]
  },
  {
   "cell_type": "code",
   "execution_count": 15,
   "metadata": {},
   "outputs": [
    {
     "data": {
      "text/plain": [
       "['folio',\n",
       " 'depto',\n",
       " 'area',\n",
       " 'nro',\n",
       " 'genero',\n",
       " 'edad',\n",
       " 'dianac',\n",
       " 'mesnac',\n",
       " 'anionac',\n",
       " 'relacionjefehogar',\n",
       " 'idiomauno',\n",
       " 'idiomados',\n",
       " 'idiomanativo',\n",
       " 'estadocivil',\n",
       " 'dondehace5anios',\n",
       " 'pertenecepueblooriginario',\n",
       " 'pueblooriginario',\n",
       " 'tieneenfermedad',\n",
       " 'enfermadodocemeses',\n",
       " 'acudiodocecaja',\n",
       " 'acudiodocepublico',\n",
       " 'acudiodoceprivados',\n",
       " 'acudiodocemisalud',\n",
       " 'acudiodocedomicilio',\n",
       " 'acudiodocetradicional',\n",
       " 'acudiosinreceta',\n",
       " 'afiliadoseguro',\n",
       " 'dificultadlentes',\n",
       " 'dificultadauditivo',\n",
       " 'dificultadcomunicacion',\n",
       " 'dificultadapoyocaminar',\n",
       " 'dificultadconcentracion',\n",
       " 'dificultadapoyoapoyo',\n",
       " 'dificultadentenderrealidad',\n",
       " 'estuvoembarazada',\n",
       " 'numeroembarazos',\n",
       " 'hijos',\n",
       " 'hijosvivos',\n",
       " 'quienatendioparto',\n",
       " 'dondeatendioparto',\n",
       " 'partoatendiocaja',\n",
       " 'bonoazurduy',\n",
       " 'treintaactividadfisicatrabajo',\n",
       " 'treintamcaminatrabajo',\n",
       " 'ejercicioregular',\n",
       " 'deportepractica',\n",
       " 'ininstalaciontipopublico',\n",
       " 'ininstalaciontipopublicocosto',\n",
       " 'instalacionprivada',\n",
       " 'instalacionabierta',\n",
       " 'instalacioncasa',\n",
       " 'fuma',\n",
       " 'bebe',\n",
       " 'frecuenciabebe',\n",
       " 'sienteseguro',\n",
       " 'victimadocem',\n",
       " 'leeescribe',\n",
       " 'operacionesmatematicas',\n",
       " 'niveleducacionalto',\n",
       " 'gradoalto',\n",
       " 'inscribiocursoanio',\n",
       " 'razoninscribio',\n",
       " 'gradoinscribioanio',\n",
       " 'bonojuancitopinto',\n",
       " 'establecimientomatriculo',\n",
       " 'actualmenteasiste',\n",
       " 'motivonoasiste',\n",
       " 'burlaron',\n",
       " 'insultaron',\n",
       " 'golpearon',\n",
       " 'amenazaron',\n",
       " 'ignoraron',\n",
       " 'quitaron',\n",
       " 'mintieron',\n",
       " 'tienetelefono',\n",
       " 'usadotelefono3m',\n",
       " 'usadointernet',\n",
       " 'frecuenciauso',\n",
       " 'lugaruso',\n",
       " 'internetbienes',\n",
       " 'internetsalud',\n",
       " 'internetorganizaciones',\n",
       " 'internetcorreo',\n",
       " 'internetcompraventa',\n",
       " 'internettransacciones',\n",
       " 'internetcapacitacion',\n",
       " 'internetbuscempleo',\n",
       " 'internetentretenimiento',\n",
       " 'trabajoultimasemana',\n",
       " 'ulsemanadisponible',\n",
       " 'ulsemanabusconegopropio',\n",
       " 'trabajoanteriormente',\n",
       " 'hacecuantonotrabajo',\n",
       " 'periodohacecuantonotrabja',\n",
       " 'esusted',\n",
       " 'porquenobuscotrabajo',\n",
       " 'ocupacionsemanapasada',\n",
       " 'ocupacionsemanapasadacodigo',\n",
       " 'actividadempresa',\n",
       " 'actividadempresacodigo',\n",
       " 'ocupacion',\n",
       " 'ocupacionrol',\n",
       " 'tiempotrabajaempresa',\n",
       " 'periodotiempotrabajo',\n",
       " 'tipocontrato',\n",
       " 'publicaprivada',\n",
       " 'lugardesempenio',\n",
       " 'numeroempleados',\n",
       " 'diassemanatrabaja',\n",
       " 'horasdiatrabaja',\n",
       " 'salarioliquido',\n",
       " 'salariofrequencia',\n",
       " 'primaultimoanio',\n",
       " 'aguinaldoultimoanio',\n",
       " 'tienevacaciones',\n",
       " 'tieneseguro',\n",
       " 'ingresoocupacionprincipal',\n",
       " 'frecuenciaocupacionprincipal',\n",
       " 'deseatrabajarmashoras',\n",
       " 'disponibletrabajarmashoras',\n",
       " 'trabajoalgunavez',\n",
       " 'afiliado',\n",
       " 'afiliadoafp',\n",
       " 'aportaafp',\n",
       " 'ingresojubilacion',\n",
       " 'ingresobenemerito',\n",
       " 'ingresoinvalidez',\n",
       " 'ingresoviudez',\n",
       " 'ingresorentadignidad',\n",
       " 'ingresomontorentadignidad',\n",
       " 'ingresointereses',\n",
       " 'ingresoalquileres',\n",
       " 'ingresootrasrentas',\n",
       " 'recibiodineroexterior',\n",
       " 'frecuenciadineroexterior',\n",
       " 'montodineroexterior',\n",
       " 'monedamontoexterior',\n",
       " 'razontrabaja',\n",
       " 'estrato',\n",
       " 'factor',\n",
       " 'tipohogar',\n",
       " 'cobersalud',\n",
       " 'hnvulta',\n",
       " 'quienatenparto',\n",
       " 'dondeatenparto',\n",
       " 'nived',\n",
       " 'nivedg',\n",
       " 'cmasi',\n",
       " 'educprev',\n",
       " 'aestudio',\n",
       " 'cobop',\n",
       " 'caebop',\n",
       " 'pet',\n",
       " 'ocupado',\n",
       " 'cesante',\n",
       " 'aspirante',\n",
       " 'desocupado',\n",
       " 'pea',\n",
       " 'temporal',\n",
       " 'permanente',\n",
       " 'pei',\n",
       " 'condact',\n",
       " 'phrs',\n",
       " 'shrs',\n",
       " 'tothrs',\n",
       " 'yprilab',\n",
       " 'yseclab',\n",
       " 'ylab',\n",
       " 'ynolab',\n",
       " 'yper',\n",
       " 'yhog',\n",
       " 'yhogpc',\n",
       " 'z',\n",
       " 'zext',\n",
       " 'pcero',\n",
       " 'puno',\n",
       " 'pdos',\n",
       " 'pextcero',\n",
       " 'pextuno',\n",
       " 'pextdos']"
      ]
     },
     "execution_count": 15,
     "metadata": {},
     "output_type": "execute_result"
    }
   ],
   "source": [
    "list(df.columns)"
   ]
  },
  {
   "cell_type": "code",
   "execution_count": 81,
   "metadata": {},
   "outputs": [],
   "source": [
    "# renombramos la columna condicion laboral\n",
    "df = df.rename(columns={'condact': 'target'})"
   ]
  },
  {
   "cell_type": "markdown",
   "metadata": {},
   "source": [
    "#### Análisis Exploratorio de Datos\n",
    "Escogiendo nuestra variable dependiente\n",
    "Se desea proyectar la condición laboral de las personas"
   ]
  },
  {
   "cell_type": "code",
   "execution_count": 82,
   "metadata": {},
   "outputs": [
    {
     "data": {
      "text/plain": [
       "Text(0, 0.5, 'Frecuencia de personas')"
      ]
     },
     "execution_count": 82,
     "metadata": {},
     "output_type": "execute_result"
    },
    {
     "data": {
      "image/png": "[encoded data removed]",
      "text/plain": [
       "<Figure size 864x720 with 1 Axes>"
      ]
     },
     "metadata": {},
     "output_type": "display_data"
    }
   ],
   "source": [
    "pd.crosstab(df.nivedg, df.target).plot(kind='bar', figsize=(12, 10))\n",
    "plt.title('Frecuencia de personas y la condicion laboral')\n",
    "plt.xlabel('Departamento')\n",
    "plt.ylabel('Frecuencia de personas')\n",
    "#plt.savefig('purchase_fre_job')"
   ]
  },
  {
   "cell_type": "code",
   "execution_count": 83,
   "metadata": {},
   "outputs": [
    {
     "data": {
      "image/png": "[encoded data removed]",
      "text/plain": [
       "<Figure size 432x288 with 1 Axes>"
      ]
     },
     "metadata": {},
     "output_type": "display_data"
    }
   ],
   "source": [
    "mdf = pd.melt(df[['aestudio','target']], id_vars=['target'], var_name=['aestudio'])  \n",
    "ax = sns.boxplot(x=\"target\", y=\"value\", data=mdf)\n",
    "plt.show()"
   ]
  },
  {
   "cell_type": "code",
   "execution_count": null,
   "metadata": {},
   "outputs": [],
   "source": []
  },
  {
   "cell_type": "code",
   "execution_count": 113,
   "metadata": {},
   "outputs": [
    {
     "data": {
      "image/png": "[encoded data removed]",
      "text/plain": [
       "<Figure size 432x288 with 1 Axes>"
      ]
     },
     "metadata": {},
     "output_type": "display_data"
    }
   ],
   "source": [
    "mdf = pd.melt(df[['phrs','target']], id_vars=['target'], var_name=['phrs'])  \n",
    "ax = sns.boxplot(x=\"target\", y=\"value\", data=mdf)\n",
    "plt.show()"
   ]
  },
  {
   "cell_type": "code",
   "execution_count": null,
   "metadata": {},
   "outputs": [],
   "source": []
  },
  {
   "cell_type": "code",
   "execution_count": null,
   "metadata": {},
   "outputs": [],
   "source": [
    "La variable horas trabajadas no ayuda porque solo se tiene para el personal ocupado\n"
   ]
  },
  {
   "cell_type": "code",
   "execution_count": 123,
   "metadata": {},
   "outputs": [
    {
     "name": "stderr",
     "output_type": "stream",
     "text": [
      "/home/ivan/.local/lib/python3.8/site-packages/numpy/lib/function_base.py:3961: RuntimeWarning: invalid value encountered in subtract\n",
      "  diff_b_a = subtract(b, a)\n",
      "/home/ivan/.local/lib/python3.8/site-packages/numpy/lib/function_base.py:3961: RuntimeWarning: invalid value encountered in subtract\n",
      "  diff_b_a = subtract(b, a)\n",
      "/home/ivan/.local/lib/python3.8/site-packages/numpy/lib/function_base.py:3961: RuntimeWarning: invalid value encountered in subtract\n",
      "  diff_b_a = subtract(b, a)\n",
      "/home/ivan/.local/lib/python3.8/site-packages/numpy/lib/function_base.py:3961: RuntimeWarning: invalid value encountered in subtract\n",
      "  diff_b_a = subtract(b, a)\n",
      "/home/ivan/.local/lib/python3.8/site-packages/numpy/lib/function_base.py:3961: RuntimeWarning: invalid value encountered in subtract\n",
      "  diff_b_a = subtract(b, a)\n",
      "/home/ivan/.local/lib/python3.8/site-packages/numpy/lib/function_base.py:3961: RuntimeWarning: invalid value encountered in subtract\n",
      "  diff_b_a = subtract(b, a)\n"
     ]
    },
    {
     "data": {
      "image/png": "[encoded data removed]",
      "text/plain": [
       "<Figure size 432x288 with 1 Axes>"
      ]
     },
     "metadata": {},
     "output_type": "display_data"
    }
   ],
   "source": [
    "mdf = pd.melt(df[['ingresoocupacionprincipal_log','target']], id_vars=['target'], var_name=['ingresoocupacionprincipal_log'])  \n",
    "ax = sns.boxplot(x=\"target\", y=\"value\", data=mdf)\n",
    "plt.show()"
   ]
  },
  {
   "cell_type": "code",
   "execution_count": 126,
   "metadata": {},
   "outputs": [
    {
     "name": "stderr",
     "output_type": "stream",
     "text": [
      "/opt/anaconda/lib/python3.8/site-packages/pandas/core/series.py:726: RuntimeWarning: divide by zero encountered in log\n",
      "  result = getattr(ufunc, method)(*inputs, **kwargs)\n"
     ]
    }
   ],
   "source": [
    "df['ingresoocupacionprincipal_log'] = np.log(df['ingresoocupacionprincipal'])"
   ]
  },
  {
   "cell_type": "code",
   "execution_count": 128,
   "metadata": {},
   "outputs": [],
   "source": [
    "df1 = df.loc[df['ingresoocupacionprincipal'] > 0]\n",
    "#['ingresoocupacionprincipal']"
   ]
  },
  {
   "cell_type": "code",
   "execution_count": 130,
   "metadata": {},
   "outputs": [
    {
     "data": {
      "image/png": "[encoded data removed]",
      "text/plain": [
       "<Figure size 432x288 with 1 Axes>"
      ]
     },
     "metadata": {},
     "output_type": "display_data"
    }
   ],
   "source": [
    "mdf = pd.melt(df1[['ingresoocupacionprincipal_log','target']], id_vars=['target'], var_name=['ingresoocupacionprincipal_log'])  \n",
    "ax = sns.boxplot(x=\"target\", y=\"value\", data=mdf)\n",
    "plt.show()"
   ]
  },
  {
   "cell_type": "markdown",
   "metadata": {},
   "source": [
    "### Recategorización"
   ]
  },
  {
   "cell_type": "code",
   "execution_count": 131,
   "metadata": {},
   "outputs": [
    {
     "data": {
      "text/html": [
       "<div>\n",
       "<style scoped>\n",
       "    .dataframe tbody tr th:only-of-type {\n",
       "        vertical-align: middle;\n",
       "    }\n",
       "\n",
       "    .dataframe tbody tr th {\n",
       "        vertical-align: top;\n",
       "    }\n",
       "\n",
       "    .dataframe thead th {\n",
       "        text-align: right;\n",
       "    }\n",
       "</style>\n",
       "<table border=\"1\" class=\"dataframe\">\n",
       "  <thead>\n",
       "    <tr style=\"text-align: right;\">\n",
       "      <th></th>\n",
       "      <th>folio</th>\n",
       "      <th>depto</th>\n",
       "      <th>area</th>\n",
       "      <th>nro</th>\n",
       "      <th>genero</th>\n",
       "      <th>edad</th>\n",
       "      <th>dianac</th>\n",
       "      <th>mesnac</th>\n",
       "      <th>anionac</th>\n",
       "      <th>relacionjefehogar</th>\n",
       "      <th>...</th>\n",
       "      <th>pextuno</th>\n",
       "      <th>pextdos</th>\n",
       "      <th>genero_e</th>\n",
       "      <th>tipohogar_e</th>\n",
       "      <th>razontrabaja_e</th>\n",
       "      <th>cobersalud_e</th>\n",
       "      <th>hijos_e</th>\n",
       "      <th>ocupacion_e</th>\n",
       "      <th>relacionjefehogar_e</th>\n",
       "      <th>ingresoocupacionprincipal_log</th>\n",
       "    </tr>\n",
       "  </thead>\n",
       "  <tbody>\n",
       "    <tr>\n",
       "      <th>0</th>\n",
       "      <td>111-00416110273-A-0021</td>\n",
       "      <td>Chuquisaca</td>\n",
       "      <td>Urbana</td>\n",
       "      <td>1</td>\n",
       "      <td>1.Hombre</td>\n",
       "      <td>42</td>\n",
       "      <td>10</td>\n",
       "      <td>2</td>\n",
       "      <td>1977</td>\n",
       "      <td>1.JEFE O JEFA DEL HOGAR</td>\n",
       "      <td>...</td>\n",
       "      <td>0</td>\n",
       "      <td>0</td>\n",
       "      <td>0</td>\n",
       "      <td>1</td>\n",
       "      <td>0</td>\n",
       "      <td>0</td>\n",
       "      <td>0</td>\n",
       "      <td>2</td>\n",
       "      <td>0</td>\n",
       "      <td>-inf</td>\n",
       "    </tr>\n",
       "    <tr>\n",
       "      <th>1</th>\n",
       "      <td>111-00416110273-A-0031</td>\n",
       "      <td>Chuquisaca</td>\n",
       "      <td>Urbana</td>\n",
       "      <td>1</td>\n",
       "      <td>1.Hombre</td>\n",
       "      <td>44</td>\n",
       "      <td>20</td>\n",
       "      <td>5</td>\n",
       "      <td>1975</td>\n",
       "      <td>1.JEFE O JEFA DEL HOGAR</td>\n",
       "      <td>...</td>\n",
       "      <td>0</td>\n",
       "      <td>0</td>\n",
       "      <td>0</td>\n",
       "      <td>4</td>\n",
       "      <td>0</td>\n",
       "      <td>3</td>\n",
       "      <td>0</td>\n",
       "      <td>2</td>\n",
       "      <td>0</td>\n",
       "      <td>-inf</td>\n",
       "    </tr>\n",
       "    <tr>\n",
       "      <th>2</th>\n",
       "      <td>151-03374505336-D-0091</td>\n",
       "      <td>Chuquisaca</td>\n",
       "      <td>Rural</td>\n",
       "      <td>6</td>\n",
       "      <td>1.Hombre</td>\n",
       "      <td>4</td>\n",
       "      <td>6</td>\n",
       "      <td>1</td>\n",
       "      <td>2015</td>\n",
       "      <td>3.HIJO/A O ENTENADO/A</td>\n",
       "      <td>...</td>\n",
       "      <td>0.685652136802673</td>\n",
       "      <td>0.470118850469589</td>\n",
       "      <td>0</td>\n",
       "      <td>1</td>\n",
       "      <td>0</td>\n",
       "      <td>3</td>\n",
       "      <td>0</td>\n",
       "      <td>0</td>\n",
       "      <td>6</td>\n",
       "      <td>-inf</td>\n",
       "    </tr>\n",
       "    <tr>\n",
       "      <th>3</th>\n",
       "      <td>111-00416110273-A-0051</td>\n",
       "      <td>Chuquisaca</td>\n",
       "      <td>Urbana</td>\n",
       "      <td>1</td>\n",
       "      <td>1.Hombre</td>\n",
       "      <td>41</td>\n",
       "      <td>23</td>\n",
       "      <td>11</td>\n",
       "      <td>1978</td>\n",
       "      <td>1.JEFE O JEFA DEL HOGAR</td>\n",
       "      <td>...</td>\n",
       "      <td>0</td>\n",
       "      <td>0</td>\n",
       "      <td>0</td>\n",
       "      <td>4</td>\n",
       "      <td>0</td>\n",
       "      <td>3</td>\n",
       "      <td>0</td>\n",
       "      <td>1</td>\n",
       "      <td>0</td>\n",
       "      <td>6.802395</td>\n",
       "    </tr>\n",
       "    <tr>\n",
       "      <th>4</th>\n",
       "      <td>111-00416110273-A-0051</td>\n",
       "      <td>Chuquisaca</td>\n",
       "      <td>Urbana</td>\n",
       "      <td>2</td>\n",
       "      <td>2.Mujer</td>\n",
       "      <td>31</td>\n",
       "      <td>30</td>\n",
       "      <td>8</td>\n",
       "      <td>1988</td>\n",
       "      <td>2.ESPOSA/O O CONVIVIENTE</td>\n",
       "      <td>...</td>\n",
       "      <td>0</td>\n",
       "      <td>0</td>\n",
       "      <td>1</td>\n",
       "      <td>4</td>\n",
       "      <td>0</td>\n",
       "      <td>3</td>\n",
       "      <td>8</td>\n",
       "      <td>2</td>\n",
       "      <td>5</td>\n",
       "      <td>-inf</td>\n",
       "    </tr>\n",
       "  </tbody>\n",
       "</table>\n",
       "<p>5 rows × 188 columns</p>\n",
       "</div>"
      ],
      "text/plain": [
       "                    folio       depto    area  nro    genero  edad  dianac  \\\n",
       "0  111-00416110273-A-0021  Chuquisaca  Urbana    1  1.Hombre    42      10   \n",
       "1  111-00416110273-A-0031  Chuquisaca  Urbana    1  1.Hombre    44      20   \n",
       "2  151-03374505336-D-0091  Chuquisaca   Rural    6  1.Hombre     4       6   \n",
       "3  111-00416110273-A-0051  Chuquisaca  Urbana    1  1.Hombre    41      23   \n",
       "4  111-00416110273-A-0051  Chuquisaca  Urbana    2   2.Mujer    31      30   \n",
       "\n",
       "   mesnac  anionac         relacionjefehogar  ...            pextuno  \\\n",
       "0       2     1977   1.JEFE O JEFA DEL HOGAR  ...                  0   \n",
       "1       5     1975   1.JEFE O JEFA DEL HOGAR  ...                  0   \n",
       "2       1     2015     3.HIJO/A O ENTENADO/A  ...  0.685652136802673   \n",
       "3      11     1978   1.JEFE O JEFA DEL HOGAR  ...                  0   \n",
       "4       8     1988  2.ESPOSA/O O CONVIVIENTE  ...                  0   \n",
       "\n",
       "             pextdos genero_e tipohogar_e razontrabaja_e cobersalud_e hijos_e  \\\n",
       "0                  0        0           1              0            0       0   \n",
       "1                  0        0           4              0            3       0   \n",
       "2  0.470118850469589        0           1              0            3       0   \n",
       "3                  0        0           4              0            3       0   \n",
       "4                  0        1           4              0            3       8   \n",
       "\n",
       "  ocupacion_e relacionjefehogar_e ingresoocupacionprincipal_log  \n",
       "0           2                   0                          -inf  \n",
       "1           2                   0                          -inf  \n",
       "2           0                   6                          -inf  \n",
       "3           1                   0                      6.802395  \n",
       "4           2                   5                          -inf  \n",
       "\n",
       "[5 rows x 188 columns]"
      ]
     },
     "execution_count": 131,
     "metadata": {},
     "output_type": "execute_result"
    }
   ],
   "source": [
    "label_encoder = preprocessing.LabelEncoder()\n",
    "df['target'] = label_encoder.fit_transform(df['target'])\n",
    "#df['edad_e'] = label_encoder.fit_transform(df['edad'])\n",
    "df['genero_e'] = label_encoder.fit_transform(df['genero'])\n",
    "df['tipohogar_e'] = label_encoder.fit_transform(df['tipohogar'])\n",
    "df['razontrabaja_e'] = label_encoder.fit_transform(df['razontrabaja'])\n",
    "df['cobersalud_e'] = label_encoder.fit_transform(df['cobersalud'])\n",
    "df['hijos_e'] = label_encoder.fit_transform(df['hijos'])\n",
    "df['ocupacion_e'] = label_encoder.fit_transform(df['ocupacion'])\n",
    "df['relacionjefehogar_e'] = label_encoder.fit_transform(df['relacionjefehogar'])\n",
    "#df['interhouse'] = label_encoder.fit_transform(df['internet_casa'])\n",
    "\n",
    "df.head()"
   ]
  },
  {
   "cell_type": "code",
   "execution_count": 132,
   "metadata": {},
   "outputs": [
    {
     "name": "stdout",
     "output_type": "stream",
     "text": [
      "<class 'pandas.core.frame.DataFrame'>\n",
      "RangeIndex: 39605 entries, 0 to 39604\n",
      "Columns: 188 entries, folio to ingresoocupacionprincipal_log\n",
      "dtypes: float64(7), int64(16), object(165)\n",
      "memory usage: 56.8+ MB\n"
     ]
    }
   ],
   "source": [
    "df.info()"
   ]
  },
  {
   "cell_type": "code",
   "execution_count": 136,
   "metadata": {},
   "outputs": [
    {
     "data": {
      "text/html": [
       "<div>\n",
       "<style scoped>\n",
       "    .dataframe tbody tr th:only-of-type {\n",
       "        vertical-align: middle;\n",
       "    }\n",
       "\n",
       "    .dataframe tbody tr th {\n",
       "        vertical-align: top;\n",
       "    }\n",
       "\n",
       "    .dataframe thead th {\n",
       "        text-align: right;\n",
       "    }\n",
       "</style>\n",
       "<table border=\"1\" class=\"dataframe\">\n",
       "  <thead>\n",
       "    <tr style=\"text-align: right;\">\n",
       "      <th></th>\n",
       "      <th>edad</th>\n",
       "      <th>genero_e</th>\n",
       "      <th>hijos_e</th>\n",
       "      <th>tipohogar_e</th>\n",
       "      <th>cobersalud_e</th>\n",
       "      <th>razontrabaja_e</th>\n",
       "      <th>relacionjefehogar_e</th>\n",
       "      <th>ocupacion_e</th>\n",
       "      <th>ingresoocupacionprincipal</th>\n",
       "      <th>aestudio</th>\n",
       "      <th>target</th>\n",
       "    </tr>\n",
       "  </thead>\n",
       "  <tbody>\n",
       "    <tr>\n",
       "      <th>0</th>\n",
       "      <td>42</td>\n",
       "      <td>0</td>\n",
       "      <td>0</td>\n",
       "      <td>1</td>\n",
       "      <td>0</td>\n",
       "      <td>0</td>\n",
       "      <td>0</td>\n",
       "      <td>2</td>\n",
       "      <td>0</td>\n",
       "      <td>17</td>\n",
       "      <td>2</td>\n",
       "    </tr>\n",
       "    <tr>\n",
       "      <th>1</th>\n",
       "      <td>44</td>\n",
       "      <td>0</td>\n",
       "      <td>0</td>\n",
       "      <td>4</td>\n",
       "      <td>3</td>\n",
       "      <td>0</td>\n",
       "      <td>0</td>\n",
       "      <td>2</td>\n",
       "      <td>0</td>\n",
       "      <td>16</td>\n",
       "      <td>2</td>\n",
       "    </tr>\n",
       "    <tr>\n",
       "      <th>2</th>\n",
       "      <td>4</td>\n",
       "      <td>0</td>\n",
       "      <td>0</td>\n",
       "      <td>1</td>\n",
       "      <td>3</td>\n",
       "      <td>0</td>\n",
       "      <td>6</td>\n",
       "      <td>0</td>\n",
       "      <td>0</td>\n",
       "      <td>0</td>\n",
       "      <td>5</td>\n",
       "    </tr>\n",
       "    <tr>\n",
       "      <th>3</th>\n",
       "      <td>41</td>\n",
       "      <td>0</td>\n",
       "      <td>0</td>\n",
       "      <td>4</td>\n",
       "      <td>3</td>\n",
       "      <td>0</td>\n",
       "      <td>0</td>\n",
       "      <td>1</td>\n",
       "      <td>900</td>\n",
       "      <td>6</td>\n",
       "      <td>2</td>\n",
       "    </tr>\n",
       "    <tr>\n",
       "      <th>4</th>\n",
       "      <td>31</td>\n",
       "      <td>1</td>\n",
       "      <td>8</td>\n",
       "      <td>4</td>\n",
       "      <td>3</td>\n",
       "      <td>0</td>\n",
       "      <td>5</td>\n",
       "      <td>2</td>\n",
       "      <td>0</td>\n",
       "      <td>4</td>\n",
       "      <td>2</td>\n",
       "    </tr>\n",
       "  </tbody>\n",
       "</table>\n",
       "</div>"
      ],
      "text/plain": [
       "   edad  genero_e  hijos_e  tipohogar_e  cobersalud_e  razontrabaja_e  \\\n",
       "0    42         0        0            1             0               0   \n",
       "1    44         0        0            4             3               0   \n",
       "2     4         0        0            1             3               0   \n",
       "3    41         0        0            4             3               0   \n",
       "4    31         1        8            4             3               0   \n",
       "\n",
       "   relacionjefehogar_e  ocupacion_e  ingresoocupacionprincipal  aestudio  \\\n",
       "0                    0            2                          0        17   \n",
       "1                    0            2                          0        16   \n",
       "2                    6            0                          0         0   \n",
       "3                    0            1                        900         6   \n",
       "4                    5            2                          0         4   \n",
       "\n",
       "   target  \n",
       "0       2  \n",
       "1       2  \n",
       "2       5  \n",
       "3       2  \n",
       "4       2  "
      ]
     },
     "execution_count": 136,
     "metadata": {},
     "output_type": "execute_result"
    }
   ],
   "source": [
    "nomcol = ['edad','genero_e','hijos_e','tipohogar_e', 'cobersalud_e', 'razontrabaja_e', 'relacionjefehogar_e','ocupacion_e', 'ingresoocupacionprincipal', 'aestudio','target']\n",
    "df1=df[nomcol]\n",
    "df1.head()"
   ]
  },
  {
   "cell_type": "code",
   "execution_count": 137,
   "metadata": {},
   "outputs": [
    {
     "data": {
      "text/html": [
       "<div>\n",
       "<style scoped>\n",
       "    .dataframe tbody tr th:only-of-type {\n",
       "        vertical-align: middle;\n",
       "    }\n",
       "\n",
       "    .dataframe tbody tr th {\n",
       "        vertical-align: top;\n",
       "    }\n",
       "\n",
       "    .dataframe thead th {\n",
       "        text-align: right;\n",
       "    }\n",
       "</style>\n",
       "<table border=\"1\" class=\"dataframe\">\n",
       "  <thead>\n",
       "    <tr style=\"text-align: right;\">\n",
       "      <th></th>\n",
       "      <th>edad</th>\n",
       "      <th>genero_e</th>\n",
       "      <th>hijos_e</th>\n",
       "      <th>tipohogar_e</th>\n",
       "      <th>cobersalud_e</th>\n",
       "      <th>razontrabaja_e</th>\n",
       "      <th>relacionjefehogar_e</th>\n",
       "      <th>ocupacion_e</th>\n",
       "      <th>ingresoocupacionprincipal</th>\n",
       "      <th>aestudio</th>\n",
       "    </tr>\n",
       "  </thead>\n",
       "  <tbody>\n",
       "    <tr>\n",
       "      <th>0</th>\n",
       "      <td>42</td>\n",
       "      <td>0</td>\n",
       "      <td>0</td>\n",
       "      <td>1</td>\n",
       "      <td>0</td>\n",
       "      <td>0</td>\n",
       "      <td>0</td>\n",
       "      <td>2</td>\n",
       "      <td>0</td>\n",
       "      <td>17</td>\n",
       "    </tr>\n",
       "    <tr>\n",
       "      <th>1</th>\n",
       "      <td>44</td>\n",
       "      <td>0</td>\n",
       "      <td>0</td>\n",
       "      <td>4</td>\n",
       "      <td>3</td>\n",
       "      <td>0</td>\n",
       "      <td>0</td>\n",
       "      <td>2</td>\n",
       "      <td>0</td>\n",
       "      <td>16</td>\n",
       "    </tr>\n",
       "    <tr>\n",
       "      <th>2</th>\n",
       "      <td>4</td>\n",
       "      <td>0</td>\n",
       "      <td>0</td>\n",
       "      <td>1</td>\n",
       "      <td>3</td>\n",
       "      <td>0</td>\n",
       "      <td>6</td>\n",
       "      <td>0</td>\n",
       "      <td>0</td>\n",
       "      <td>0</td>\n",
       "    </tr>\n",
       "    <tr>\n",
       "      <th>3</th>\n",
       "      <td>41</td>\n",
       "      <td>0</td>\n",
       "      <td>0</td>\n",
       "      <td>4</td>\n",
       "      <td>3</td>\n",
       "      <td>0</td>\n",
       "      <td>0</td>\n",
       "      <td>1</td>\n",
       "      <td>900</td>\n",
       "      <td>6</td>\n",
       "    </tr>\n",
       "    <tr>\n",
       "      <th>4</th>\n",
       "      <td>31</td>\n",
       "      <td>1</td>\n",
       "      <td>8</td>\n",
       "      <td>4</td>\n",
       "      <td>3</td>\n",
       "      <td>0</td>\n",
       "      <td>5</td>\n",
       "      <td>2</td>\n",
       "      <td>0</td>\n",
       "      <td>4</td>\n",
       "    </tr>\n",
       "  </tbody>\n",
       "</table>\n",
       "</div>"
      ],
      "text/plain": [
       "   edad  genero_e  hijos_e  tipohogar_e  cobersalud_e  razontrabaja_e  \\\n",
       "0    42         0        0            1             0               0   \n",
       "1    44         0        0            4             3               0   \n",
       "2     4         0        0            1             3               0   \n",
       "3    41         0        0            4             3               0   \n",
       "4    31         1        8            4             3               0   \n",
       "\n",
       "   relacionjefehogar_e  ocupacion_e  ingresoocupacionprincipal  aestudio  \n",
       "0                    0            2                          0        17  \n",
       "1                    0            2                          0        16  \n",
       "2                    6            0                          0         0  \n",
       "3                    0            1                        900         6  \n",
       "4                    5            2                          0         4  "
      ]
     },
     "execution_count": 137,
     "metadata": {},
     "output_type": "execute_result"
    }
   ],
   "source": [
    "X=df1[df1.columns[:-1]]\n",
    "y=df1['target']\n",
    "X.head()"
   ]
  },
  {
   "cell_type": "code",
   "execution_count": 138,
   "metadata": {},
   "outputs": [],
   "source": [
    "# preparacion de la data de aprendizaje y de testeo\n",
    "X_train, X_test, y_train, y_test = train_test_split(X, y, test_size=0.3, random_state=25)"
   ]
  },
  {
   "cell_type": "code",
   "execution_count": 139,
   "metadata": {},
   "outputs": [
    {
     "data": {
      "text/plain": [
       "LogisticRegression(n_jobs=-1, random_state=25)"
      ]
     },
     "execution_count": 139,
     "metadata": {},
     "output_type": "execute_result"
    }
   ],
   "source": [
    "reg = LogisticRegression(multi_class='auto', random_state=25, n_jobs=-1)\n",
    "reg.fit(X_train,y_train)\n",
    "reg"
   ]
  },
  {
   "cell_type": "code",
   "execution_count": 141,
   "metadata": {},
   "outputs": [],
   "source": [
    "pred=reg.predict(X_test)\n",
    "reg_cv=cross_val_score(reg, X_train, y_train, cv=10).mean()"
   ]
  },
  {
   "cell_type": "code",
   "execution_count": 142,
   "metadata": {},
   "outputs": [
    {
     "name": "stdout",
     "output_type": "stream",
     "text": [
      "Coef de determinación: 0.910\n",
      "Cross-validation $R^2$: 0.912\n",
      "Precision: 0.910\n",
      "Proporción de verdaderos positivos : 0.910\n",
      "Contribución de la precision ponderada(F1 score): 0.910\n"
     ]
    }
   ],
   "source": [
    "print('Coef de determinación: %.3f' % reg.score(X_test, y_test))\n",
    "print('Cross-validation $R^2$: %0.3f' % reg_cv)\n",
    "print('Precision: %.3f' % precision_score(y_test, pred, average='micro'))\n",
    "print('Proporción de verdaderos positivos : %.3f' % recall_score(y_test, pred, average='micro'))\n",
    "print('Contribución de la precision ponderada(F1 score): %.3f' % f1_score(y_test, pred, average='micro'))\n",
    "#print(\"Precision Score : \",precision_score(y_test, y_pred, \n",
    " #                                          pos_label='positive'\n",
    "  #                                         average='micro'))\n"
   ]
  },
  {
   "cell_type": "code",
   "execution_count": null,
   "metadata": {},
   "outputs": [],
   "source": [
    "El modelo predice en todos los casos al 91, es decir de cada 100 personas podemos categorizar a 91."
   ]
  },
  {
   "cell_type": "code",
   "execution_count": 143,
   "metadata": {},
   "outputs": [
    {
     "name": "stdout",
     "output_type": "stream",
     "text": [
      "Precición de modelo logistico para clasificar segun la data test: 0.91\n"
     ]
    }
   ],
   "source": [
    "y_pred =reg.predict(X_test)\n",
    "print('Precición de modelo logistico para clasificar segun la data test: {:.2f}'.format(reg.score(X_test, y_test)))"
   ]
  },
  {
   "cell_type": "markdown",
   "metadata": {},
   "source": [
    "### Calculamos la matriz de confusión¶\n"
   ]
  },
  {
   "cell_type": "code",
   "execution_count": 144,
   "metadata": {},
   "outputs": [
    {
     "name": "stdout",
     "output_type": "stream",
     "text": [
      "[[   0    1    0   89   13    0]\n",
      " [   0    7    0  115   79    0]\n",
      " [   0    0 5738    1    1    0]\n",
      " [   0   11    0 2558  299   54]\n",
      " [   0    4    0  362  934    0]\n",
      " [   0    0    0   42    0 1574]]\n"
     ]
    }
   ],
   "source": [
    "from sklearn.metrics import confusion_matrix\n",
    "confusion_matrix = confusion_matrix(y_test, y_pred)\n",
    "print(confusion_matrix)"
   ]
  },
  {
   "cell_type": "code",
   "execution_count": null,
   "metadata": {},
   "outputs": [],
   "source": [
    "se puede ver en las filas los datos observados y en las columnas las predichas.\n",
    "se puede ver en la diagonal principal esta bien clasificado.\n"
   ]
  },
  {
   "cell_type": "code",
   "execution_count": 156,
   "metadata": {},
   "outputs": [
    {
     "data": {
      "image/png": "[encoded data removed]",
      "text/plain": [
       "<Figure size 432x288 with 2 Axes>"
      ]
     },
     "metadata": {},
     "output_type": "display_data"
    }
   ],
   "source": [
    "import seaborn as sns; \n",
    "sns.set_theme()\n",
    "uniform_data = np.random.rand(10, 12)\n",
    "ax = sns.heatmap(confusion_matrix)"
   ]
  },
  {
   "cell_type": "code",
   "execution_count": null,
   "metadata": {},
   "outputs": [],
   "source": [
    "Se aprecia que los colores oscuros muestran errores muy bajos en cuanto a los falsos positivos y verdaderos negativos.\n"
   ]
  },
  {
   "cell_type": "code",
   "execution_count": 145,
   "metadata": {},
   "outputs": [
    {
     "name": "stdout",
     "output_type": "stream",
     "text": [
      "              precision    recall  f1-score   support\n",
      "\n",
      "           0       0.00      0.00      0.00       103\n",
      "           1       0.30      0.03      0.06       201\n",
      "           2       1.00      1.00      1.00      5740\n",
      "           3       0.81      0.88      0.84      2922\n",
      "           4       0.70      0.72      0.71      1300\n",
      "           5       0.97      0.97      0.97      1616\n",
      "\n",
      "    accuracy                           0.91     11882\n",
      "   macro avg       0.63      0.60      0.60     11882\n",
      "weighted avg       0.90      0.91      0.90     11882\n",
      "\n"
     ]
    },
    {
     "name": "stderr",
     "output_type": "stream",
     "text": [
      "/home/ivan/.local/lib/python3.8/site-packages/sklearn/metrics/_classification.py:1245: UndefinedMetricWarning: Precision and F-score are ill-defined and being set to 0.0 in labels with no predicted samples. Use `zero_division` parameter to control this behavior.\n",
      "  _warn_prf(average, modifier, msg_start, len(result))\n",
      "/home/ivan/.local/lib/python3.8/site-packages/sklearn/metrics/_classification.py:1245: UndefinedMetricWarning: Precision and F-score are ill-defined and being set to 0.0 in labels with no predicted samples. Use `zero_division` parameter to control this behavior.\n",
      "  _warn_prf(average, modifier, msg_start, len(result))\n",
      "/home/ivan/.local/lib/python3.8/site-packages/sklearn/metrics/_classification.py:1245: UndefinedMetricWarning: Precision and F-score are ill-defined and being set to 0.0 in labels with no predicted samples. Use `zero_division` parameter to control this behavior.\n",
      "  _warn_prf(average, modifier, msg_start, len(result))\n"
     ]
    }
   ],
   "source": [
    "from sklearn.metrics import classification_report\n",
    "print(classification_report(y_test, y_pred))"
   ]
  },
  {
   "cell_type": "code",
   "execution_count": null,
   "metadata": {},
   "outputs": [],
   "source": [
    "La exactitud llega al 91 %"
   ]
  },
  {
   "cell_type": "code",
   "execution_count": 146,
   "metadata": {},
   "outputs": [
    {
     "data": {
      "text/plain": [
       "38345    4\n",
       "39078    3\n",
       "7760     2\n",
       "11134    2\n",
       "9191     2\n",
       "        ..\n",
       "31843    3\n",
       "9919     2\n",
       "15367    2\n",
       "10844    2\n",
       "35203    4\n",
       "Name: target, Length: 11882, dtype: int64"
      ]
     },
     "execution_count": 146,
     "metadata": {},
     "output_type": "execute_result"
    }
   ],
   "source": [
    "y_test"
   ]
  }
 ],
 "metadata": {
  "kernelspec": {
   "display_name": "Python 3",
   "language": "python",
   "name": "python3"
  },
  "language_info": {
   "codemirror_mode": {
    "name": "ipython",
    "version": 3
   },
   "file_extension": ".py",
   "mimetype": "text/x-python",
   "name": "python",
   "nbconvert_exporter": "python",
   "pygments_lexer": "ipython3",
   "version": "3.8.5"
  }
 },
 "nbformat": 4,
 "nbformat_minor": 4
}
